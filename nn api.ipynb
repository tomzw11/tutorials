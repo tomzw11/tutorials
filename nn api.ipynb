{
 "cells": [
  {
   "cell_type": "code",
   "execution_count": 11,
   "metadata": {},
   "outputs": [],
   "source": [
    "import numpy as np\n",
    "import torch\n",
    "from torch import Tensor\n",
    "from torch import nn"
   ]
  },
  {
   "cell_type": "code",
   "execution_count": 16,
   "metadata": {},
   "outputs": [
    {
     "name": "stdout",
     "output_type": "stream",
     "text": [
      "ModuleDict(\n",
      "  (cond2d): Conv2d(10, 10, kernel_size=(3, 3), stride=(1, 1))\n",
      ")\n",
      "ModuleDict(\n",
      "  (relu): ReLU()\n",
      "  (dict1): ModuleDict(\n",
      "    (cond2d): Conv2d(10, 10, kernel_size=(3, 3), stride=(1, 1))\n",
      "  )\n",
      ")\n"
     ]
    }
   ],
   "source": [
    "# moduledict\n",
    "moduledict1 = nn.ModuleDict({'cond2d': nn.Conv2d(10,10,3)})\n",
    "moduledict2 = nn.ModuleDict({'relu': nn.ReLU(), 'dict1': moduledict1})\n",
    "print(moduledict1)\n",
    "print(moduledict2)"
   ]
  },
  {
   "cell_type": "code",
   "execution_count": 20,
   "metadata": {},
   "outputs": [
    {
     "name": "stdout",
     "output_type": "stream",
     "text": [
      "tensor([1.6873, 1.1444, 0.3280, 0.0000, 0.2289, 0.2976, 0.0000, 0.4835, 1.1768,\n",
      "        2.1066])\n"
     ]
    }
   ],
   "source": [
    "# ReLU\n",
    "input = torch.randn(10)\n",
    "output = nn.ReLU()(input)\n",
    "print(output)"
   ]
  },
  {
   "cell_type": "code",
   "execution_count": 23,
   "metadata": {},
   "outputs": [
    {
     "name": "stdout",
     "output_type": "stream",
     "text": [
      "torch.Size([128, 30])\n"
     ]
    }
   ],
   "source": [
    "# Linear\n",
    "input = torch.randn(128, 20)\n",
    "output = nn.Linear(20,30)(input)\n",
    "print(output.size())"
   ]
  },
  {
   "cell_type": "code",
   "execution_count": 25,
   "metadata": {},
   "outputs": [
    {
     "name": "stdout",
     "output_type": "stream",
     "text": [
      "tensor(0.7983, grad_fn=<BinaryCrossEntropyBackward0>)\n"
     ]
    }
   ],
   "source": [
    "# BCELoss\n",
    "m = nn.Sigmoid()\n",
    "input = torch.randn(3, 2, requires_grad=True)\n",
    "target = torch.rand(3, 2, requires_grad=False)\n",
    "output = nn.BCELoss()(m(input), target)\n",
    "print(output)"
   ]
  },
  {
   "cell_type": "code",
   "execution_count": 31,
   "metadata": {},
   "outputs": [
    {
     "name": "stdout",
     "output_type": "stream",
     "text": [
      "tensor([[[[1., 2.],\n",
      "          [3., 4.]]]])\n",
      "tensor([[[[1., 1., 2., 2.],\n",
      "          [1., 1., 2., 2.],\n",
      "          [3., 3., 4., 4.],\n",
      "          [3., 3., 4., 4.]]]])\n",
      "tensor([[[[1.0000, 1.2500, 1.7500, 2.0000],\n",
      "          [1.5000, 1.7500, 2.2500, 2.5000],\n",
      "          [2.5000, 2.7500, 3.2500, 3.5000],\n",
      "          [3.0000, 3.2500, 3.7500, 4.0000]]]])\n",
      "tensor([[[[1.0000, 1.3333, 1.6667, 2.0000],\n",
      "          [1.6667, 2.0000, 2.3333, 2.6667],\n",
      "          [2.3333, 2.6667, 3.0000, 3.3333],\n",
      "          [3.0000, 3.3333, 3.6667, 4.0000]]]])\n"
     ]
    }
   ],
   "source": [
    "input = torch.arange(1, 5, dtype=torch.float32).view(1, 1, 2, 2)\n",
    "print(input)\n",
    "\n",
    "m = nn.Upsample(scale_factor=2, mode='nearest')\n",
    "print(m(input))\n",
    "\n",
    "m = nn.Upsample(scale_factor=2, mode='bilinear')  # align_corners=False\n",
    "print(m(input))\n",
    "\n",
    "m = nn.Upsample(scale_factor=2, mode='bilinear', align_corners=True)\n",
    "print(m(input))\n",
    "\n",
    "# # Try scaling the same data in a larger tensor\n",
    "# input_3x3 = torch.zeros(3, 3).view(1, 1, 3, 3)\n",
    "# input_3x3[:, :, :2, :2].copy_(input)\n",
    "# input_3x3\n",
    "\n",
    "# m = nn.Upsample(scale_factor=2, mode='bilinear')  # align_corners=False\n",
    "# # Notice that values in top left corner are the same with the small input (except at boundary)\n",
    "# m(input_3x3)\n",
    "\n",
    "# m = nn.Upsample(scale_factor=2, mode='bilinear', align_corners=True)\n",
    "# # Notice that values in top left corner are now changed\n",
    "# m(input_3x3)"
   ]
  },
  {
   "cell_type": "code",
   "execution_count": 33,
   "metadata": {},
   "outputs": [
    {
     "name": "stdout",
     "output_type": "stream",
     "text": [
      "torch.Size([128, 20])\n"
     ]
    }
   ],
   "source": [
    "m = nn.Identity(54, unused_argument1=0.1, unused_argument2=False)\n",
    "input = torch.randn(128, 20)\n",
    "output = nn.Identity(54, unused_argument1=0.1, unused_argument2=False)(input)\n",
    "print(output.size())"
   ]
  },
  {
   "cell_type": "code",
   "execution_count": 39,
   "metadata": {},
   "outputs": [
    {
     "name": "stdout",
     "output_type": "stream",
     "text": [
      "tensor([[[-0.0402,  0.0576,  0.2065, -0.1296,  0.1422, -0.0145, -0.5225,\n",
      "          -0.3057,  0.1891,  0.5322, -0.0604,  0.0228, -0.0846, -0.5631,\n",
      "           0.1770,  0.2748, -0.0023,  0.2098,  0.0771,  0.2433, -0.0380,\n",
      "           0.1194,  0.0113,  0.4350, -0.0378, -0.0177,  0.0755,  0.1787,\n",
      "           0.2030, -0.0697,  0.2827, -0.6169]],\n",
      "\n",
      "        [[ 0.0134, -0.0031,  0.2839, -0.1390,  0.2343,  0.0092, -0.6052,\n",
      "          -0.1563,  0.1205,  0.5575, -0.0382,  0.0488, -0.1163, -0.5516,\n",
      "           0.1896,  0.2201,  0.0050,  0.2661, -0.0560,  0.0487,  0.0055,\n",
      "          -0.0456, -0.0158,  0.5236, -0.0962, -0.0434,  0.0006,  0.2224,\n",
      "           0.1588, -0.1222,  0.3569, -0.5909]]], grad_fn=<ViewBackward0>)\n"
     ]
    }
   ],
   "source": [
    "multihead_attn = nn.MultiheadAttention(32, 8)\n",
    "query = torch.randn(2, 1, 32)\n",
    "key = torch.randn(2, 1, 32)\n",
    "value = torch.randn(2, 1, 32)\n",
    "attn_output, attn_output_weights = multihead_attn(query, key, value)\n",
    "print(attn_output)"
   ]
  },
  {
   "cell_type": "code",
   "execution_count": 42,
   "metadata": {},
   "outputs": [
    {
     "name": "stdout",
     "output_type": "stream",
     "text": [
      "torch.Size([20, 32, 512])\n"
     ]
    }
   ],
   "source": [
    "transformer_model = nn.Transformer(nhead=16, num_encoder_layers=12)\n",
    "src = torch.rand((10, 32, 512))\n",
    "tgt = torch.rand((20, 32, 512))\n",
    "out = transformer_model(src, tgt)\n",
    "print(out.size())"
   ]
  },
  {
   "cell_type": "code",
   "execution_count": null,
   "metadata": {},
   "outputs": [],
   "source": []
  }
 ],
 "metadata": {
  "kernelspec": {
   "display_name": "Python 3",
   "language": "python",
   "name": "python3"
  },
  "language_info": {
   "codemirror_mode": {
    "name": "ipython",
    "version": 3
   },
   "file_extension": ".py",
   "mimetype": "text/x-python",
   "name": "python",
   "nbconvert_exporter": "python",
   "pygments_lexer": "ipython3",
   "version": "3.8.5"
  }
 },
 "nbformat": 4,
 "nbformat_minor": 4
}
