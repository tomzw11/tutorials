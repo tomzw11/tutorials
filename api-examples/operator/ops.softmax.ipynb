{
 "cells": [
  {
   "cell_type": "markdown",
   "id": "620b1bb9-d188-4916-8a88-392b301e78dd",
   "metadata": {},
   "source": [
    "## mindspore.ops.softmax(input, axis=- 1, *, dtype=None) -〉 Tensor\n",
    "指定轴上对输入做Softmax归一化操作。\n",
    "- 输入：\n",
    "    * input：mindspore的tensor。\n",
    "    * axis：int。\n",
    "    * dtype：mindspore.dtype。\n",
    "- 返回：mindspore的tensor, 数据类型和shape与 input 相同。"
   ]
  },
  {
   "cell_type": "markdown",
   "id": "a73e925e-7e1d-4e81-810f-fd251bfcd7ac",
   "metadata": {},
   "source": [
    "1、参数比较：\n",
    "| mindspore   | torch       |\n",
    "| :----:      | :----:      |\n",
    "| input       | input       |\n",
    "| axis        | dim         |\n",
    "| dtype       | dtype       |"
   ]
  },
  {
   "cell_type": "markdown",
   "id": "77ff63bc-9e39-4849-85b1-a34b7e49aee4",
   "metadata": {},
   "source": [
    "2、返回值比较"
   ]
  },
  {
   "cell_type": "markdown",
   "id": "4b3017ed-6df8-4328-9b44-800c4daf35ac",
   "metadata": {},
   "source": [
    "一维："
   ]
  },
  {
   "cell_type": "code",
   "execution_count": 13,
   "id": "518c829d-80a5-4d98-b90c-09635ae35665",
   "metadata": {},
   "outputs": [
    {
     "name": "stdout",
     "output_type": "stream",
     "text": [
      "mindspore output:\n",
      " [0.01152193 0.08513618 0.62907599 0.23142412 0.03131985 0.01152193]\n",
      "\n",
      "\n",
      "torch output:\n",
      " tensor([0.0115, 0.0851, 0.6291, 0.2314, 0.0313, 0.0115], dtype=torch.float64)\n"
     ]
    }
   ],
   "source": [
    "import numpy as np\n",
    "import mindspore as ms\n",
    "import torch\n",
    "import jax.numpy as jnp\n",
    "\n",
    "input = np.array([1., 3, 5, 4, 2, 1])\n",
    "\n",
    "y1 = ms.ops.softmax(ms.tensor(input))\n",
    "y2 = torch.softmax(torch.tensor(input), 0)\n",
    "print ('mindspore output:\\n',y1)\n",
    "print('\\n')\n",
    "print ('torch output:\\n',y2)"
   ]
  },
  {
   "cell_type": "markdown",
   "id": "adfa1a27-0e91-4155-afa0-c2c039658a68",
   "metadata": {},
   "source": [
    "* CPU下实测，ms与torch都不接受int作为input。\n",
    "* torch的dim参数无默认值，必须传参。\n",
    "* ms不返回类型。"
   ]
  },
  {
   "cell_type": "code",
   "execution_count": 17,
   "id": "21aa93b7-45b9-4712-a930-380bd4b6f502",
   "metadata": {},
   "outputs": [
    {
     "name": "stdout",
     "output_type": "stream",
     "text": [
      "mindspore output:\n",
      " [[0.24472847 0.09003057 0.66524096]\n",
      " [0.1141952  0.04201007 0.84379473]]\n",
      "\n",
      "\n",
      "torch output:\n",
      " tensor([[0.2447, 0.0900, 0.6652],\n",
      "        [0.1142, 0.0420, 0.8438]], dtype=torch.float64)\n"
     ]
    }
   ],
   "source": [
    "input = np.array([[2., 1, 3],\n",
    "                  [4, 3, 6]])\n",
    "\n",
    "y1 = ms.ops.softmax(ms.tensor(input), 1)\n",
    "y2 = torch.softmax(torch.tensor(input), 1)\n",
    "print ('mindspore output:\\n',y1)\n",
    "print('\\n')\n",
    "print ('torch output:\\n',y2)"
   ]
  },
  {
   "cell_type": "markdown",
   "id": "bc9f57fe-a2e6-4918-9e5f-ede7543cea00",
   "metadata": {},
   "source": [
    "3、报错信息比较"
   ]
  },
  {
   "cell_type": "code",
   "execution_count": 18,
   "id": "9fcbe1fa-7af2-4f85-9c27-c318cb2e7017",
   "metadata": {},
   "outputs": [
    {
     "ename": "TypeError",
     "evalue": "Failed calling Softmax with \"Softmax(axis=int)(input=<class 'numpy.ndarray'>)\".\nThe valid calling should be: \n\"Softmax(axis=<int, tuple of int>)(input=<Tensor>)\".\n\n----------------------------------------------------\n- C++ Call Stack: (For framework developers)\n----------------------------------------------------\nmindspore/ccsrc/pipeline/pynative/pynative_utils.cc:1294 PrintTypeCastError\n",
     "output_type": "error",
     "traceback": [
      "\u001b[0;31m---------------------------------------------------------------------------\u001b[0m",
      "\u001b[0;31mTypeError\u001b[0m                                 Traceback (most recent call last)",
      "Cell \u001b[0;32mIn[18], line 1\u001b[0m\n\u001b[0;32m----> 1\u001b[0m y1 \u001b[38;5;241m=\u001b[39m \u001b[43mms\u001b[49m\u001b[38;5;241;43m.\u001b[39;49m\u001b[43mops\u001b[49m\u001b[38;5;241;43m.\u001b[39;49m\u001b[43msoftmax\u001b[49m\u001b[43m(\u001b[49m\u001b[38;5;28;43minput\u001b[39;49m\u001b[43m)\u001b[49m\n",
      "File \u001b[0;32m/opt/anaconda3/envs/mindspore/lib/python3.9/site-packages/mindspore/ops/function/nn_func.py:3015\u001b[0m, in \u001b[0;36msoftmax\u001b[0;34m(input, axis, dtype)\u001b[0m\n\u001b[1;32m   3013\u001b[0m \u001b[38;5;28;01mif\u001b[39;00m dtype \u001b[38;5;129;01mis\u001b[39;00m \u001b[38;5;129;01mnot\u001b[39;00m \u001b[38;5;28;01mNone\u001b[39;00m:\n\u001b[1;32m   3014\u001b[0m     \u001b[38;5;28minput\u001b[39m \u001b[38;5;241m=\u001b[39m ops\u001b[38;5;241m.\u001b[39mcast(\u001b[38;5;28minput\u001b[39m, dtype)\n\u001b[0;32m-> 3015\u001b[0m \u001b[38;5;28;01mreturn\u001b[39;00m \u001b[43msoftmax_impl\u001b[49m\u001b[43m(\u001b[49m\u001b[38;5;28;43minput\u001b[39;49m\u001b[43m,\u001b[49m\u001b[43m \u001b[49m\u001b[43maxis\u001b[49m\u001b[43m)\u001b[49m\n",
      "File \u001b[0;32m/opt/anaconda3/envs/mindspore/lib/python3.9/site-packages/mindspore/ops/auto_generate/pyboost_inner_prim.py:456\u001b[0m, in \u001b[0;36m_PyboostSoftmaxPrim.__call__\u001b[0;34m(self, input, axis)\u001b[0m\n\u001b[1;32m    454\u001b[0m \u001b[38;5;28;01mdef\u001b[39;00m \u001b[38;5;21m__call__\u001b[39m(\u001b[38;5;28mself\u001b[39m, \u001b[38;5;28minput\u001b[39m, axis):\n\u001b[0;32m--> 456\u001b[0m     \u001b[38;5;28;01mreturn\u001b[39;00m _convert_stub(\u001b[38;5;28;43msuper\u001b[39;49m\u001b[43m(\u001b[49m\u001b[43m)\u001b[49m\u001b[38;5;241;43m.\u001b[39;49m\u001b[38;5;21;43m__call__\u001b[39;49m\u001b[43m(\u001b[49m\u001b[38;5;28;43minput\u001b[39;49m\u001b[43m,\u001b[49m\u001b[43m \u001b[49m\u001b[43maxis\u001b[49m\u001b[43m)\u001b[49m)\n",
      "\u001b[0;31mTypeError\u001b[0m: Failed calling Softmax with \"Softmax(axis=int)(input=<class 'numpy.ndarray'>)\".\nThe valid calling should be: \n\"Softmax(axis=<int, tuple of int>)(input=<Tensor>)\".\n\n----------------------------------------------------\n- C++ Call Stack: (For framework developers)\n----------------------------------------------------\nmindspore/ccsrc/pipeline/pynative/pynative_utils.cc:1294 PrintTypeCastError\n"
     ]
    }
   ],
   "source": [
    "y1 = ms.ops.softmax(input)"
   ]
  },
  {
   "cell_type": "code",
   "execution_count": 19,
   "id": "1050b2d7-b6e4-4cce-90ed-9797c0dba5e9",
   "metadata": {},
   "outputs": [
    {
     "ename": "TypeError",
     "evalue": "softmax() received an invalid combination of arguments - got (numpy.ndarray, int), but expected one of:\n * (Tensor input, int dim, torch.dtype dtype, *, Tensor out)\n * (Tensor input, name dim, *, torch.dtype dtype)\n",
     "output_type": "error",
     "traceback": [
      "\u001b[0;31m---------------------------------------------------------------------------\u001b[0m",
      "\u001b[0;31mTypeError\u001b[0m                                 Traceback (most recent call last)",
      "Cell \u001b[0;32mIn[19], line 1\u001b[0m\n\u001b[0;32m----> 1\u001b[0m y2 \u001b[38;5;241m=\u001b[39m \u001b[43mtorch\u001b[49m\u001b[38;5;241;43m.\u001b[39;49m\u001b[43msoftmax\u001b[49m\u001b[43m(\u001b[49m\u001b[38;5;28;43minput\u001b[39;49m\u001b[43m,\u001b[49m\u001b[38;5;241;43m0\u001b[39;49m\u001b[43m)\u001b[49m\n",
      "\u001b[0;31mTypeError\u001b[0m: softmax() received an invalid combination of arguments - got (numpy.ndarray, int), but expected one of:\n * (Tensor input, int dim, torch.dtype dtype, *, Tensor out)\n * (Tensor input, name dim, *, torch.dtype dtype)\n"
     ]
    }
   ],
   "source": [
    "y2 = torch.softmax(input,0)"
   ]
  },
  {
   "cell_type": "markdown",
   "id": "59517714-1ef1-43d2-ac0e-7b84d4ab1c65",
   "metadata": {},
   "source": [
    "当输入类型不正确时，报错信息torch简洁明确。建议ms优化。"
   ]
  }
 ],
 "metadata": {
  "kernelspec": {
   "display_name": "Python 3 (ipykernel)",
   "language": "python",
   "name": "python3"
  },
  "language_info": {
   "codemirror_mode": {
    "name": "ipython",
    "version": 3
   },
   "file_extension": ".py",
   "mimetype": "text/x-python",
   "name": "python",
   "nbconvert_exporter": "python",
   "pygments_lexer": "ipython3",
   "version": "3.9.18"
  }
 },
 "nbformat": 4,
 "nbformat_minor": 5
}
