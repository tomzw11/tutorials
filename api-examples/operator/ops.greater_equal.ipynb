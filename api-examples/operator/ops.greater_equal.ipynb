{
 "cells": [
  {
   "cell_type": "markdown",
   "id": "620b1bb9-d188-4916-8a88-392b301e78dd",
   "metadata": {},
   "source": [
    "## mindspore.ops.greater_equal(input, other) -〉 Tensor\n",
    "- 输入：input和other必须Number或mindspore的tensor（数据类型为Number或bool）。\n",
    "- 返回：mindspore的tensor，shape与广播后的shape相同，数据类型为bool。"
   ]
  },
  {
   "cell_type": "markdown",
   "id": "77ff63bc-9e39-4849-85b1-a34b7e49aee4",
   "metadata": {},
   "source": [
    "1、当input和other为shape相同的tensor时"
   ]
  },
  {
   "cell_type": "code",
   "execution_count": 4,
   "id": "518c829d-80a5-4d98-b90c-09635ae35665",
   "metadata": {},
   "outputs": [
    {
     "name": "stdout",
     "output_type": "stream",
     "text": [
      "mindspore output: [ True  True  True]\n",
      "torch     output: tensor([True, True, True])\n",
      "jax       output: [ True  True  True]\n"
     ]
    }
   ],
   "source": [
    "import numpy as np\n",
    "import mindspore as ms\n",
    "import torch\n",
    "import jax.numpy as jnp\n",
    "\n",
    "input = np.array([5, 9, -2])\n",
    "other = np.array([4, -1, -2])\n",
    "\n",
    "y1 = ms.ops.greater_equal(ms.tensor(input), ms.tensor(other))\n",
    "y2 = torch.greater_equal(torch.tensor(input), torch.tensor(other))\n",
    "y3 = jnp.greater_equal(input, other)\n",
    "print ('mindspore output:',y1)\n",
    "print ('torch     output:',y2)\n",
    "print ('jax       output:',y3)"
   ]
  },
  {
   "cell_type": "markdown",
   "id": "d068b3ce-1451-48ff-917b-c40263f0ebee",
   "metadata": {},
   "source": [
    "ms与jax不返回类型"
   ]
  },
  {
   "cell_type": "markdown",
   "id": "02b0cf77-c233-468e-810e-eccede1ffd6c",
   "metadata": {},
   "source": [
    "2、当input和other为shape不相同的tensor时"
   ]
  },
  {
   "cell_type": "code",
   "execution_count": 6,
   "id": "16329363-d992-4421-b8b9-0da1d2f6a789",
   "metadata": {},
   "outputs": [
    {
     "name": "stdout",
     "output_type": "stream",
     "text": [
      "mindspore output:\n",
      " [[ True False False]\n",
      " [ True  True False]]\n",
      "\n",
      "\n",
      "torch output:\n",
      " tensor([[ True, False, False],\n",
      "        [ True,  True, False]])\n",
      "\n",
      "\n",
      "jax output:\n",
      " [[ True False False]\n",
      " [ True  True False]]\n"
     ]
    }
   ],
   "source": [
    "input = np.array([[5, -6, 7],\n",
    "                  [-2, 5, 9]])\n",
    "other = np.array([-4, 5, 10])\n",
    "\n",
    "y1 = ms.ops.greater_equal(ms.tensor(input), ms.tensor(other))\n",
    "y2 = torch.greater_equal(torch.tensor(input), torch.tensor(other))\n",
    "y3 = jnp.greater_equal(input, other)\n",
    "print ('mindspore output:\\n',y1)\n",
    "print('\\n')\n",
    "print ('torch output:\\n',y2)\n",
    "print('\\n')\n",
    "print ('jax output:\\n',y3)"
   ]
  },
  {
   "cell_type": "code",
   "execution_count": 7,
   "id": "9fcbe1fa-7af2-4f85-9c27-c318cb2e7017",
   "metadata": {},
   "outputs": [
    {
     "ename": "TypeError",
     "evalue": "Failed calling GreaterEqual with \"GreaterEqual()(input=<class 'numpy.ndarray'>, other=<class 'numpy.ndarray'>)\".\nThe valid calling should be: \n\"GreaterEqual()(input=<Number, Tensor>, other=<Number, Tensor>)\".\n\n----------------------------------------------------\n- C++ Call Stack: (For framework developers)\n----------------------------------------------------\nmindspore/ccsrc/pipeline/pynative/pynative_utils.cc:1294 PrintTypeCastError\n",
     "output_type": "error",
     "traceback": [
      "\u001b[0;31m---------------------------------------------------------------------------\u001b[0m",
      "\u001b[0;31mTypeError\u001b[0m                                 Traceback (most recent call last)",
      "\u001b[0;32m/var/folders/wy/5yzfdb6x7pvfxh89zcmf_w780000gn/T/ipykernel_72291/1974361758.py\u001b[0m in \u001b[0;36m?\u001b[0;34m()\u001b[0m\n\u001b[0;32m----> 1\u001b[0;31m \u001b[0my1\u001b[0m \u001b[0;34m=\u001b[0m \u001b[0mms\u001b[0m\u001b[0;34m.\u001b[0m\u001b[0mops\u001b[0m\u001b[0;34m.\u001b[0m\u001b[0mgreater_equal\u001b[0m\u001b[0;34m(\u001b[0m\u001b[0minput\u001b[0m\u001b[0;34m,\u001b[0m \u001b[0mother\u001b[0m\u001b[0;34m)\u001b[0m\u001b[0;34m\u001b[0m\u001b[0;34m\u001b[0m\u001b[0m\n\u001b[0m",
      "\u001b[0;32m/opt/anaconda3/envs/mindspore/lib/python3.9/site-packages/mindspore/ops/auto_generate/gen_ops_def.py\u001b[0m in \u001b[0;36m?\u001b[0;34m(input, other)\u001b[0m\n\u001b[1;32m   3293\u001b[0m         \u001b[0;34m>>\u001b[0m\u001b[0;34m>\u001b[0m \u001b[0moutput\u001b[0m \u001b[0;34m=\u001b[0m \u001b[0mops\u001b[0m\u001b[0;34m.\u001b[0m\u001b[0mgreater_equal\u001b[0m\u001b[0;34m(\u001b[0m\u001b[0minput\u001b[0m\u001b[0;34m,\u001b[0m \u001b[0mother\u001b[0m\u001b[0;34m)\u001b[0m\u001b[0;34m\u001b[0m\u001b[0;34m\u001b[0m\u001b[0m\n\u001b[1;32m   3294\u001b[0m         \u001b[0;34m>>\u001b[0m\u001b[0;34m>\u001b[0m \u001b[0mprint\u001b[0m\u001b[0;34m(\u001b[0m\u001b[0moutput\u001b[0m\u001b[0;34m)\u001b[0m\u001b[0;34m\u001b[0m\u001b[0;34m\u001b[0m\u001b[0m\n\u001b[1;32m   3295\u001b[0m         \u001b[0;34m[\u001b[0m\u001b[0;32mTrue\u001b[0m \u001b[0;32mTrue\u001b[0m \u001b[0;32mFalse\u001b[0m\u001b[0;34m]\u001b[0m\u001b[0;34m\u001b[0m\u001b[0;34m\u001b[0m\u001b[0m\n\u001b[1;32m   3296\u001b[0m     \"\"\"\n\u001b[0;32m-> 3297\u001b[0;31m     \u001b[0;32mreturn\u001b[0m \u001b[0mgreater_equal_op\u001b[0m\u001b[0;34m(\u001b[0m\u001b[0minput\u001b[0m\u001b[0;34m,\u001b[0m \u001b[0mother\u001b[0m\u001b[0;34m)\u001b[0m\u001b[0;34m\u001b[0m\u001b[0;34m\u001b[0m\u001b[0m\n\u001b[0m",
      "\u001b[0;32m/opt/anaconda3/envs/mindspore/lib/python3.9/site-packages/mindspore/ops/auto_generate/gen_ops_prim.py\u001b[0m in \u001b[0;36m?\u001b[0;34m(self, input, other)\u001b[0m\n\u001b[1;32m   6584\u001b[0m     \u001b[0;32mdef\u001b[0m \u001b[0m__call__\u001b[0m\u001b[0;34m(\u001b[0m\u001b[0mself\u001b[0m\u001b[0;34m,\u001b[0m \u001b[0minput\u001b[0m\u001b[0;34m,\u001b[0m \u001b[0mother\u001b[0m\u001b[0;34m)\u001b[0m\u001b[0;34m:\u001b[0m\u001b[0;34m\u001b[0m\u001b[0;34m\u001b[0m\u001b[0m\n\u001b[0;32m-> 6585\u001b[0;31m           \u001b[0;32mreturn\u001b[0m \u001b[0m_convert_stub\u001b[0m\u001b[0;34m(\u001b[0m\u001b[0mpyboost_greater_equal\u001b[0m\u001b[0;34m(\u001b[0m\u001b[0mself\u001b[0m\u001b[0;34m,\u001b[0m \u001b[0;34m[\u001b[0m\u001b[0minput\u001b[0m\u001b[0;34m,\u001b[0m \u001b[0mother\u001b[0m\u001b[0;34m]\u001b[0m\u001b[0;34m)\u001b[0m\u001b[0;34m)\u001b[0m\u001b[0;34m\u001b[0m\u001b[0;34m\u001b[0m\u001b[0m\n\u001b[0m",
      "\u001b[0;31mTypeError\u001b[0m: Failed calling GreaterEqual with \"GreaterEqual()(input=<class 'numpy.ndarray'>, other=<class 'numpy.ndarray'>)\".\nThe valid calling should be: \n\"GreaterEqual()(input=<Number, Tensor>, other=<Number, Tensor>)\".\n\n----------------------------------------------------\n- C++ Call Stack: (For framework developers)\n----------------------------------------------------\nmindspore/ccsrc/pipeline/pynative/pynative_utils.cc:1294 PrintTypeCastError\n"
     ]
    }
   ],
   "source": [
    "y1 = ms.ops.greater_equal(input, other)"
   ]
  },
  {
   "cell_type": "code",
   "execution_count": 8,
   "id": "1050b2d7-b6e4-4cce-90ed-9797c0dba5e9",
   "metadata": {},
   "outputs": [
    {
     "ename": "TypeError",
     "evalue": "greater_equal() received an invalid combination of arguments - got (numpy.ndarray, numpy.ndarray), but expected one of:\n * (Tensor input, Tensor other, *, Tensor out)\n * (Tensor input, Number other, *, Tensor out)\n",
     "output_type": "error",
     "traceback": [
      "\u001b[0;31m---------------------------------------------------------------------------\u001b[0m",
      "\u001b[0;31mTypeError\u001b[0m                                 Traceback (most recent call last)",
      "Cell \u001b[0;32mIn[8], line 1\u001b[0m\n\u001b[0;32m----> 1\u001b[0m y2 \u001b[38;5;241m=\u001b[39m \u001b[43mtorch\u001b[49m\u001b[38;5;241;43m.\u001b[39;49m\u001b[43mgreater_equal\u001b[49m\u001b[43m(\u001b[49m\u001b[38;5;28;43minput\u001b[39;49m\u001b[43m,\u001b[49m\u001b[43mother\u001b[49m\u001b[43m)\u001b[49m\n",
      "\u001b[0;31mTypeError\u001b[0m: greater_equal() received an invalid combination of arguments - got (numpy.ndarray, numpy.ndarray), but expected one of:\n * (Tensor input, Tensor other, *, Tensor out)\n * (Tensor input, Number other, *, Tensor out)\n"
     ]
    }
   ],
   "source": [
    "y2 = torch.greater_equal(input,other)"
   ]
  },
  {
   "cell_type": "code",
   "execution_count": 9,
   "id": "6697f596-9c94-4151-a577-08c8f80e6e7e",
   "metadata": {},
   "outputs": [
    {
     "ename": "TypeError",
     "evalue": "greater_equal requires ndarray or scalar arguments, got <class 'list'> at position 0.",
     "output_type": "error",
     "traceback": [
      "\u001b[0;31m---------------------------------------------------------------------------\u001b[0m",
      "\u001b[0;31mTypeError\u001b[0m                                 Traceback (most recent call last)",
      "Cell \u001b[0;32mIn[9], line 2\u001b[0m\n\u001b[1;32m      1\u001b[0m \u001b[38;5;28minput\u001b[39m \u001b[38;5;241m=\u001b[39m [\u001b[38;5;241m2\u001b[39m, \u001b[38;5;241m4\u001b[39m, \u001b[38;5;241m3\u001b[39m, \u001b[38;5;241m1\u001b[39m]\n\u001b[0;32m----> 2\u001b[0m y3 \u001b[38;5;241m=\u001b[39m \u001b[43mjnp\u001b[49m\u001b[38;5;241;43m.\u001b[39;49m\u001b[43mgreater_equal\u001b[49m\u001b[43m(\u001b[49m\u001b[38;5;28;43minput\u001b[39;49m\u001b[43m,\u001b[49m\u001b[43m \u001b[49m\u001b[43mother\u001b[49m\u001b[43m)\u001b[49m\n",
      "    \u001b[0;31m[... skipping hidden 11 frame]\u001b[0m\n",
      "File \u001b[0;32m/opt/anaconda3/envs/mindspore/lib/python3.9/site-packages/jax/_src/numpy/ufuncs.py:115\u001b[0m, in \u001b[0;36m_comparison_op.<locals>.fn\u001b[0;34m(x1, x2)\u001b[0m\n\u001b[1;32m    114\u001b[0m \u001b[38;5;28;01mdef\u001b[39;00m \u001b[38;5;21mfn\u001b[39m(x1, x2, \u001b[38;5;241m/\u001b[39m):\n\u001b[0;32m--> 115\u001b[0m   x1, x2 \u001b[38;5;241m=\u001b[39m  \u001b[43mpromote_args\u001b[49m\u001b[43m(\u001b[49m\u001b[43mnumpy_fn\u001b[49m\u001b[38;5;241;43m.\u001b[39;49m\u001b[38;5;18;43m__name__\u001b[39;49m\u001b[43m,\u001b[49m\u001b[43m \u001b[49m\u001b[43mx1\u001b[49m\u001b[43m,\u001b[49m\u001b[43m \u001b[49m\u001b[43mx2\u001b[49m\u001b[43m)\u001b[49m\n\u001b[1;32m    116\u001b[0m   \u001b[38;5;66;03m# Comparison on complex types are defined as a lexicographic ordering on\u001b[39;00m\n\u001b[1;32m    117\u001b[0m   \u001b[38;5;66;03m# the (real, imag) pair.\u001b[39;00m\n\u001b[1;32m    118\u001b[0m   \u001b[38;5;28;01mif\u001b[39;00m dtypes\u001b[38;5;241m.\u001b[39missubdtype(dtypes\u001b[38;5;241m.\u001b[39mdtype(x1), np\u001b[38;5;241m.\u001b[39mcomplexfloating):\n",
      "File \u001b[0;32m/opt/anaconda3/envs/mindspore/lib/python3.9/site-packages/jax/_src/numpy/util.py:378\u001b[0m, in \u001b[0;36mpromote_args\u001b[0;34m(fun_name, *args)\u001b[0m\n\u001b[1;32m    376\u001b[0m \u001b[38;5;28;01mdef\u001b[39;00m \u001b[38;5;21mpromote_args\u001b[39m(fun_name: \u001b[38;5;28mstr\u001b[39m, \u001b[38;5;241m*\u001b[39margs: ArrayLike) \u001b[38;5;241m-\u001b[39m\u001b[38;5;241m>\u001b[39m \u001b[38;5;28mlist\u001b[39m[Array]:\n\u001b[1;32m    377\u001b[0m \u001b[38;5;250m  \u001b[39m\u001b[38;5;124;03m\"\"\"Convenience function to apply Numpy argument shape and dtype promotion.\"\"\"\u001b[39;00m\n\u001b[0;32m--> 378\u001b[0m   \u001b[43mcheck_arraylike\u001b[49m\u001b[43m(\u001b[49m\u001b[43mfun_name\u001b[49m\u001b[43m,\u001b[49m\u001b[43m \u001b[49m\u001b[38;5;241;43m*\u001b[39;49m\u001b[43margs\u001b[49m\u001b[43m)\u001b[49m\n\u001b[1;32m    379\u001b[0m   _check_no_float0s(fun_name, \u001b[38;5;241m*\u001b[39margs)\n\u001b[1;32m    380\u001b[0m   check_for_prngkeys(fun_name, \u001b[38;5;241m*\u001b[39margs)\n",
      "File \u001b[0;32m/opt/anaconda3/envs/mindspore/lib/python3.9/site-packages/jax/_src/numpy/util.py:335\u001b[0m, in \u001b[0;36mcheck_arraylike\u001b[0;34m(fun_name, emit_warning, stacklevel, *args)\u001b[0m\n\u001b[1;32m    332\u001b[0m   warnings\u001b[38;5;241m.\u001b[39mwarn(msg \u001b[38;5;241m+\u001b[39m \u001b[38;5;124m\"\u001b[39m\u001b[38;5;124m In a future JAX release this will be an error.\u001b[39m\u001b[38;5;124m\"\u001b[39m,\n\u001b[1;32m    333\u001b[0m                 category\u001b[38;5;241m=\u001b[39m\u001b[38;5;167;01mDeprecationWarning\u001b[39;00m, stacklevel\u001b[38;5;241m=\u001b[39mstacklevel)\n\u001b[1;32m    334\u001b[0m \u001b[38;5;28;01melse\u001b[39;00m:\n\u001b[0;32m--> 335\u001b[0m   \u001b[38;5;28;01mraise\u001b[39;00m \u001b[38;5;167;01mTypeError\u001b[39;00m(msg\u001b[38;5;241m.\u001b[39mformat(fun_name, \u001b[38;5;28mtype\u001b[39m(arg), pos))\n",
      "\u001b[0;31mTypeError\u001b[0m: greater_equal requires ndarray or scalar arguments, got <class 'list'> at position 0."
     ]
    }
   ],
   "source": [
    "input = [2, 4, 3, 1]\n",
    "y3 = jnp.greater_equal(input, other)"
   ]
  },
  {
   "cell_type": "markdown",
   "id": "59517714-1ef1-43d2-ac0e-7b84d4ab1c65",
   "metadata": {},
   "source": [
    "当输入类型不正确时，报错信息torch简洁明确。建议ms优化。"
   ]
  }
 ],
 "metadata": {
  "kernelspec": {
   "display_name": "Python 3 (ipykernel)",
   "language": "python",
   "name": "python3"
  },
  "language_info": {
   "codemirror_mode": {
    "name": "ipython",
    "version": 3
   },
   "file_extension": ".py",
   "mimetype": "text/x-python",
   "name": "python",
   "nbconvert_exporter": "python",
   "pygments_lexer": "ipython3",
   "version": "3.9.18"
  }
 },
 "nbformat": 4,
 "nbformat_minor": 5
}
