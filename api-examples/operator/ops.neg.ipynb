{
 "cells": [
  {
   "cell_type": "markdown",
   "id": "620b1bb9-d188-4916-8a88-392b301e78dd",
   "metadata": {},
   "source": [
    "## mindspore.ops.neg(input) -〉 Tensor\n",
    "计算输入的相反数。\n",
    "- 输入：input必须为mindspore的tensor（数据类型为Number）。\n",
    "- 返回：mindspore的tensor。"
   ]
  },
  {
   "cell_type": "markdown",
   "id": "a73e925e-7e1d-4e81-810f-fd251bfcd7ac",
   "metadata": {},
   "source": [
    "1、参数比较：\n",
    "| mindspore   | torch       | jax         |\n",
    "| :----:      | :----:      | :----:      |\n",
    "| input       | input       | x           |\n",
    "|             | out         | args        |\n",
    "|             |             | out         |\n",
    "|             |             | where       |\n",
    "\n",
    "\n",
    "* torch额外提供了out出参方式\n",
    "* jax继承自numpy.negative, 实际out和where参数不能使用。"
   ]
  },
  {
   "cell_type": "markdown",
   "id": "77ff63bc-9e39-4849-85b1-a34b7e49aee4",
   "metadata": {},
   "source": [
    "2、返回值比较"
   ]
  },
  {
   "cell_type": "markdown",
   "id": "4b3017ed-6df8-4328-9b44-800c4daf35ac",
   "metadata": {},
   "source": [
    "实数计算："
   ]
  },
  {
   "cell_type": "code",
   "execution_count": 1,
   "id": "518c829d-80a5-4d98-b90c-09635ae35665",
   "metadata": {},
   "outputs": [
    {
     "name": "stdout",
     "output_type": "stream",
     "text": [
      "mindspore output:\n",
      " [-0.  3. -7.  7.]\n",
      "\n",
      "\n",
      "torch output:\n",
      " tensor([-0.,  3., -7.,  7.], dtype=torch.float64)\n",
      "\n",
      "\n",
      "jax output:\n",
      " [-0.  3. -7.  7.]\n"
     ]
    }
   ],
   "source": [
    "import numpy as np\n",
    "import mindspore as ms\n",
    "import torch\n",
    "import jax.numpy as jnp\n",
    "\n",
    "input = np.array([0., -3., 7, -7])\n",
    "\n",
    "y1 = ms.ops.neg(ms.tensor(input))\n",
    "y2 = torch.neg(torch.tensor(input))\n",
    "y3 = jnp.negative(input)\n",
    "print ('mindspore output:\\n',y1)\n",
    "print('\\n')\n",
    "print ('torch output:\\n',y2)\n",
    "print('\\n')\n",
    "print ('jax output:\\n',y3)"
   ]
  },
  {
   "cell_type": "markdown",
   "id": "2337f7f0-dfd3-4071-82b1-883b65afcb75",
   "metadata": {},
   "source": [
    "复数计算:"
   ]
  },
  {
   "cell_type": "code",
   "execution_count": 3,
   "id": "21aa93b7-45b9-4712-a930-380bd4b6f502",
   "metadata": {},
   "outputs": [
    {
     "name": "stdout",
     "output_type": "stream",
     "text": [
      "mindspore output:\n",
      " [-1.+2.j  3.-4.j -5.+6.j]\n",
      "\n",
      "\n",
      "torch output:\n",
      " tensor([-1.+2.j,  3.-4.j, -5.+6.j], dtype=torch.complex128)\n",
      "\n",
      "\n",
      "jax output:\n",
      " [-1.+2.j  3.-4.j -5.+6.j]\n"
     ]
    }
   ],
   "source": [
    "input = np.array([1-2j, -3+4j, 5-6j])\n",
    "\n",
    "y1 = ms.ops.neg(ms.tensor(input))\n",
    "y2 = torch.neg(torch.tensor(input))\n",
    "y3 = jnp.negative(input)\n",
    "print ('mindspore output:\\n',y1)\n",
    "print('\\n')\n",
    "print ('torch output:\\n',y2)\n",
    "print('\\n')\n",
    "print ('jax output:\\n',y3)"
   ]
  },
  {
   "cell_type": "markdown",
   "id": "d068b3ce-1451-48ff-917b-c40263f0ebee",
   "metadata": {},
   "source": [
    "* ms与jax不返回类型。"
   ]
  },
  {
   "cell_type": "markdown",
   "id": "bc9f57fe-a2e6-4918-9e5f-ede7543cea00",
   "metadata": {},
   "source": [
    "3、报错信息比较"
   ]
  },
  {
   "cell_type": "code",
   "execution_count": 4,
   "id": "9fcbe1fa-7af2-4f85-9c27-c318cb2e7017",
   "metadata": {},
   "outputs": [
    {
     "ename": "TypeError",
     "evalue": "Failed calling Neg with \"Neg()(input=<class 'numpy.ndarray'>)\".\nThe valid calling should be: \n\"Neg()(input=<Tensor>)\".\n\n----------------------------------------------------\n- C++ Call Stack: (For framework developers)\n----------------------------------------------------\nmindspore/ccsrc/pipeline/pynative/pynative_utils.cc:1294 PrintTypeCastError\n",
     "output_type": "error",
     "traceback": [
      "\u001b[0;31m---------------------------------------------------------------------------\u001b[0m",
      "\u001b[0;31mTypeError\u001b[0m                                 Traceback (most recent call last)",
      "\u001b[0;32m/var/folders/wy/5yzfdb6x7pvfxh89zcmf_w780000gn/T/ipykernel_88232/2010608738.py\u001b[0m in \u001b[0;36m?\u001b[0;34m()\u001b[0m\n\u001b[0;32m----> 1\u001b[0;31m \u001b[0my1\u001b[0m \u001b[0;34m=\u001b[0m \u001b[0mms\u001b[0m\u001b[0;34m.\u001b[0m\u001b[0mops\u001b[0m\u001b[0;34m.\u001b[0m\u001b[0mneg\u001b[0m\u001b[0;34m(\u001b[0m\u001b[0minput\u001b[0m\u001b[0;34m)\u001b[0m\u001b[0;34m\u001b[0m\u001b[0;34m\u001b[0m\u001b[0m\n\u001b[0m",
      "\u001b[0;32m/opt/anaconda3/envs/mindspore/lib/python3.9/site-packages/mindspore/ops/auto_generate/gen_ops_def.py\u001b[0m in \u001b[0;36m?\u001b[0;34m(input)\u001b[0m\n\u001b[1;32m   5426\u001b[0m         \u001b[0;34m>>\u001b[0m\u001b[0;34m>\u001b[0m \u001b[0moutput\u001b[0m \u001b[0;34m=\u001b[0m \u001b[0mops\u001b[0m\u001b[0;34m.\u001b[0m\u001b[0mneg\u001b[0m\u001b[0;34m(\u001b[0m\u001b[0minput\u001b[0m\u001b[0;34m)\u001b[0m\u001b[0;34m\u001b[0m\u001b[0;34m\u001b[0m\u001b[0m\n\u001b[1;32m   5427\u001b[0m         \u001b[0;34m>>\u001b[0m\u001b[0;34m>\u001b[0m \u001b[0mprint\u001b[0m\u001b[0;34m(\u001b[0m\u001b[0moutput\u001b[0m\u001b[0;34m)\u001b[0m\u001b[0;34m\u001b[0m\u001b[0;34m\u001b[0m\u001b[0m\n\u001b[1;32m   5428\u001b[0m         \u001b[0;34m[\u001b[0m\u001b[0;34m-\u001b[0m\u001b[0;36m1.\u001b[0m  \u001b[0;34m-\u001b[0m\u001b[0;36m2.\u001b[0m   \u001b[0;36m1.\u001b[0m  \u001b[0;34m-\u001b[0m\u001b[0;36m2.\u001b[0m   \u001b[0;36m0.\u001b[0m   \u001b[0;36m3.5\u001b[0m\u001b[0;34m]\u001b[0m\u001b[0;34m\u001b[0m\u001b[0;34m\u001b[0m\u001b[0m\n\u001b[1;32m   5429\u001b[0m     \"\"\"\n\u001b[0;32m-> 5430\u001b[0;31m     \u001b[0;32mreturn\u001b[0m \u001b[0mneg_op\u001b[0m\u001b[0;34m(\u001b[0m\u001b[0minput\u001b[0m\u001b[0;34m)\u001b[0m\u001b[0;34m\u001b[0m\u001b[0;34m\u001b[0m\u001b[0m\n\u001b[0m",
      "\u001b[0;32m/opt/anaconda3/envs/mindspore/lib/python3.9/site-packages/mindspore/ops/auto_generate/gen_ops_prim.py\u001b[0m in \u001b[0;36m?\u001b[0;34m(self, input)\u001b[0m\n\u001b[1;32m  10253\u001b[0m     \u001b[0;32mdef\u001b[0m \u001b[0m__call__\u001b[0m\u001b[0;34m(\u001b[0m\u001b[0mself\u001b[0m\u001b[0;34m,\u001b[0m \u001b[0minput\u001b[0m\u001b[0;34m)\u001b[0m\u001b[0;34m:\u001b[0m\u001b[0;34m\u001b[0m\u001b[0;34m\u001b[0m\u001b[0m\n\u001b[0;32m> 10254\u001b[0;31m           \u001b[0;32mreturn\u001b[0m \u001b[0m_convert_stub\u001b[0m\u001b[0;34m(\u001b[0m\u001b[0mpyboost_neg\u001b[0m\u001b[0;34m(\u001b[0m\u001b[0mself\u001b[0m\u001b[0;34m,\u001b[0m \u001b[0;34m[\u001b[0m\u001b[0minput\u001b[0m\u001b[0;34m]\u001b[0m\u001b[0;34m)\u001b[0m\u001b[0;34m)\u001b[0m\u001b[0;34m\u001b[0m\u001b[0;34m\u001b[0m\u001b[0m\n\u001b[0m",
      "\u001b[0;31mTypeError\u001b[0m: Failed calling Neg with \"Neg()(input=<class 'numpy.ndarray'>)\".\nThe valid calling should be: \n\"Neg()(input=<Tensor>)\".\n\n----------------------------------------------------\n- C++ Call Stack: (For framework developers)\n----------------------------------------------------\nmindspore/ccsrc/pipeline/pynative/pynative_utils.cc:1294 PrintTypeCastError\n"
     ]
    }
   ],
   "source": [
    "y1 = ms.ops.neg(input)"
   ]
  },
  {
   "cell_type": "code",
   "execution_count": 5,
   "id": "1050b2d7-b6e4-4cce-90ed-9797c0dba5e9",
   "metadata": {},
   "outputs": [
    {
     "ename": "TypeError",
     "evalue": "neg(): argument 'input' (position 1) must be Tensor, not numpy.ndarray",
     "output_type": "error",
     "traceback": [
      "\u001b[0;31m---------------------------------------------------------------------------\u001b[0m",
      "\u001b[0;31mTypeError\u001b[0m                                 Traceback (most recent call last)",
      "Cell \u001b[0;32mIn[5], line 1\u001b[0m\n\u001b[0;32m----> 1\u001b[0m y2 \u001b[38;5;241m=\u001b[39m \u001b[43mtorch\u001b[49m\u001b[38;5;241;43m.\u001b[39;49m\u001b[43mneg\u001b[49m\u001b[43m(\u001b[49m\u001b[38;5;28;43minput\u001b[39;49m\u001b[43m)\u001b[49m\n",
      "\u001b[0;31mTypeError\u001b[0m: neg(): argument 'input' (position 1) must be Tensor, not numpy.ndarray"
     ]
    }
   ],
   "source": [
    "y2 = torch.neg(input)"
   ]
  },
  {
   "cell_type": "code",
   "execution_count": 6,
   "id": "6697f596-9c94-4151-a577-08c8f80e6e7e",
   "metadata": {},
   "outputs": [
    {
     "ename": "TypeError",
     "evalue": "negative requires ndarray or scalar arguments, got <class 'list'> at position 0.",
     "output_type": "error",
     "traceback": [
      "\u001b[0;31m---------------------------------------------------------------------------\u001b[0m",
      "\u001b[0;31mTypeError\u001b[0m                                 Traceback (most recent call last)",
      "Cell \u001b[0;32mIn[6], line 2\u001b[0m\n\u001b[1;32m      1\u001b[0m \u001b[38;5;28minput\u001b[39m \u001b[38;5;241m=\u001b[39m [\u001b[38;5;241m2\u001b[39m, \u001b[38;5;241m4\u001b[39m, \u001b[38;5;241m3\u001b[39m, \u001b[38;5;241m1\u001b[39m]\n\u001b[0;32m----> 2\u001b[0m y3 \u001b[38;5;241m=\u001b[39m \u001b[43mjnp\u001b[49m\u001b[38;5;241;43m.\u001b[39;49m\u001b[43mnegative\u001b[49m\u001b[43m(\u001b[49m\u001b[38;5;28;43minput\u001b[39;49m\u001b[43m)\u001b[49m\n",
      "    \u001b[0;31m[... skipping hidden 11 frame]\u001b[0m\n",
      "File \u001b[0;32m/opt/anaconda3/envs/mindspore/lib/python3.9/site-packages/jax/_src/numpy/ufuncs.py:66\u001b[0m, in \u001b[0;36m_one_to_one_unop.<locals>.<lambda>\u001b[0;34m(x)\u001b[0m\n\u001b[1;32m     64\u001b[0m   fn \u001b[38;5;241m=\u001b[39m \u001b[38;5;28;01mlambda\u001b[39;00m x, \u001b[38;5;241m/\u001b[39m: lax_fn(\u001b[38;5;241m*\u001b[39mpromote_args_inexact(numpy_fn\u001b[38;5;241m.\u001b[39m\u001b[38;5;18m__name__\u001b[39m, x))\n\u001b[1;32m     65\u001b[0m \u001b[38;5;28;01melse\u001b[39;00m:\n\u001b[0;32m---> 66\u001b[0m   fn \u001b[38;5;241m=\u001b[39m \u001b[38;5;28;01mlambda\u001b[39;00m x, \u001b[38;5;241m/\u001b[39m: lax_fn(\u001b[38;5;241m*\u001b[39m\u001b[43mpromote_args\u001b[49m\u001b[43m(\u001b[49m\u001b[43mnumpy_fn\u001b[49m\u001b[38;5;241;43m.\u001b[39;49m\u001b[38;5;18;43m__name__\u001b[39;49m\u001b[43m,\u001b[49m\u001b[43m \u001b[49m\u001b[43mx\u001b[49m\u001b[43m)\u001b[49m)\n\u001b[1;32m     67\u001b[0m fn\u001b[38;5;241m.\u001b[39m\u001b[38;5;18m__name__\u001b[39m \u001b[38;5;241m=\u001b[39m numpy_fn\u001b[38;5;241m.\u001b[39m\u001b[38;5;18m__name__\u001b[39m\n\u001b[1;32m     68\u001b[0m fn\u001b[38;5;241m.\u001b[39m\u001b[38;5;18m__qualname__\u001b[39m \u001b[38;5;241m=\u001b[39m \u001b[38;5;124mf\u001b[39m\u001b[38;5;124m\"\u001b[39m\u001b[38;5;124mjax.numpy.\u001b[39m\u001b[38;5;132;01m{\u001b[39;00mnumpy_fn\u001b[38;5;241m.\u001b[39m\u001b[38;5;18m__name__\u001b[39m\u001b[38;5;132;01m}\u001b[39;00m\u001b[38;5;124m\"\u001b[39m\n",
      "File \u001b[0;32m/opt/anaconda3/envs/mindspore/lib/python3.9/site-packages/jax/_src/numpy/util.py:378\u001b[0m, in \u001b[0;36mpromote_args\u001b[0;34m(fun_name, *args)\u001b[0m\n\u001b[1;32m    376\u001b[0m \u001b[38;5;28;01mdef\u001b[39;00m \u001b[38;5;21mpromote_args\u001b[39m(fun_name: \u001b[38;5;28mstr\u001b[39m, \u001b[38;5;241m*\u001b[39margs: ArrayLike) \u001b[38;5;241m-\u001b[39m\u001b[38;5;241m>\u001b[39m \u001b[38;5;28mlist\u001b[39m[Array]:\n\u001b[1;32m    377\u001b[0m \u001b[38;5;250m  \u001b[39m\u001b[38;5;124;03m\"\"\"Convenience function to apply Numpy argument shape and dtype promotion.\"\"\"\u001b[39;00m\n\u001b[0;32m--> 378\u001b[0m   \u001b[43mcheck_arraylike\u001b[49m\u001b[43m(\u001b[49m\u001b[43mfun_name\u001b[49m\u001b[43m,\u001b[49m\u001b[43m \u001b[49m\u001b[38;5;241;43m*\u001b[39;49m\u001b[43margs\u001b[49m\u001b[43m)\u001b[49m\n\u001b[1;32m    379\u001b[0m   _check_no_float0s(fun_name, \u001b[38;5;241m*\u001b[39margs)\n\u001b[1;32m    380\u001b[0m   check_for_prngkeys(fun_name, \u001b[38;5;241m*\u001b[39margs)\n",
      "File \u001b[0;32m/opt/anaconda3/envs/mindspore/lib/python3.9/site-packages/jax/_src/numpy/util.py:335\u001b[0m, in \u001b[0;36mcheck_arraylike\u001b[0;34m(fun_name, emit_warning, stacklevel, *args)\u001b[0m\n\u001b[1;32m    332\u001b[0m   warnings\u001b[38;5;241m.\u001b[39mwarn(msg \u001b[38;5;241m+\u001b[39m \u001b[38;5;124m\"\u001b[39m\u001b[38;5;124m In a future JAX release this will be an error.\u001b[39m\u001b[38;5;124m\"\u001b[39m,\n\u001b[1;32m    333\u001b[0m                 category\u001b[38;5;241m=\u001b[39m\u001b[38;5;167;01mDeprecationWarning\u001b[39;00m, stacklevel\u001b[38;5;241m=\u001b[39mstacklevel)\n\u001b[1;32m    334\u001b[0m \u001b[38;5;28;01melse\u001b[39;00m:\n\u001b[0;32m--> 335\u001b[0m   \u001b[38;5;28;01mraise\u001b[39;00m \u001b[38;5;167;01mTypeError\u001b[39;00m(msg\u001b[38;5;241m.\u001b[39mformat(fun_name, \u001b[38;5;28mtype\u001b[39m(arg), pos))\n",
      "\u001b[0;31mTypeError\u001b[0m: negative requires ndarray or scalar arguments, got <class 'list'> at position 0."
     ]
    }
   ],
   "source": [
    "input = [2, 4, 3, 1]\n",
    "y3 = jnp.negative(input)"
   ]
  },
  {
   "cell_type": "markdown",
   "id": "59517714-1ef1-43d2-ac0e-7b84d4ab1c65",
   "metadata": {},
   "source": [
    "当输入类型不正确时，报错信息torch简洁明确。建议ms优化。"
   ]
  }
 ],
 "metadata": {
  "kernelspec": {
   "display_name": "Python 3 (ipykernel)",
   "language": "python",
   "name": "python3"
  },
  "language_info": {
   "codemirror_mode": {
    "name": "ipython",
    "version": 3
   },
   "file_extension": ".py",
   "mimetype": "text/x-python",
   "name": "python",
   "nbconvert_exporter": "python",
   "pygments_lexer": "ipython3",
   "version": "3.9.18"
  }
 },
 "nbformat": 4,
 "nbformat_minor": 5
}
