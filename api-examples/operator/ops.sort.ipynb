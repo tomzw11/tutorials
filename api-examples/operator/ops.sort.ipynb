{
 "cells": [
  {
   "cell_type": "markdown",
   "id": "620b1bb9-d188-4916-8a88-392b301e78dd",
   "metadata": {},
   "source": [
    "## mindspore.ops.sort(input_x, axis=- 1, descending=False) -〉 Tensor Tensor\n",
    "计算输入的相反数。\n",
    "- 输入：\n",
    "    * input_x：mindspore的tensor。\n",
    "    * axis：int。\n",
    "    * descending：bool。\n",
    "- 返回：2个mindspore的tensor。"
   ]
  },
  {
   "cell_type": "markdown",
   "id": "a73e925e-7e1d-4e81-810f-fd251bfcd7ac",
   "metadata": {},
   "source": [
    "1、参数比较：\n",
    "| mindspore   | torch       | jax         |\n",
    "| :----:      | :----:      | :----:      |\n",
    "| input       | input       | a           |\n",
    "| axis        | dim         | axis        |\n",
    "| descending  | descending  | kind (unused)|\n",
    "|             | stable      | order (unused)|\n",
    "|             | out         | stable      |\n",
    "|             |             | descending  |\n",
    "\n",
    "\n",
    "* torch额外提供了out出参方式\n",
    "* jax和torch都提供了stable参数：是否保持等价元素的顺序。"
   ]
  },
  {
   "cell_type": "markdown",
   "id": "77ff63bc-9e39-4849-85b1-a34b7e49aee4",
   "metadata": {},
   "source": [
    "2、返回值比较"
   ]
  },
  {
   "cell_type": "markdown",
   "id": "4b3017ed-6df8-4328-9b44-800c4daf35ac",
   "metadata": {},
   "source": [
    "一维："
   ]
  },
  {
   "cell_type": "code",
   "execution_count": 1,
   "id": "518c829d-80a5-4d98-b90c-09635ae35665",
   "metadata": {},
   "outputs": [
    {
     "name": "stdout",
     "output_type": "stream",
     "text": [
      "mindspore output:\n",
      " (Tensor(shape=[6], dtype=Int64, value= [1, 1, 2, 3, 4, 5]), Tensor(shape=[6], dtype=Int32, value= [0, 5, 4, 1, 3, 2]))\n",
      "\n",
      "\n",
      "torch output:\n",
      " torch.return_types.sort(\n",
      "values=tensor([1, 1, 2, 3, 4, 5]),\n",
      "indices=tensor([0, 5, 4, 1, 3, 2]))\n",
      "\n",
      "\n",
      "jax output:\n",
      " [1 1 2 3 4 5]\n"
     ]
    }
   ],
   "source": [
    "import numpy as np\n",
    "import mindspore as ms\n",
    "import torch\n",
    "import jax.numpy as jnp\n",
    "\n",
    "input = np.array([1, 3, 5, 4, 2, 1])\n",
    "\n",
    "y1 = ms.ops.sort(ms.tensor(input))\n",
    "y2 = torch.sort(torch.tensor(input))\n",
    "y3 = jnp.sort(input)\n",
    "print ('mindspore output:\\n',y1)\n",
    "print('\\n')\n",
    "print ('torch output:\\n',y2)\n",
    "print('\\n')\n",
    "print ('jax output:\\n',y3)"
   ]
  },
  {
   "cell_type": "markdown",
   "id": "2337f7f0-dfd3-4071-82b1-883b65afcb75",
   "metadata": {},
   "source": [
    "二维:"
   ]
  },
  {
   "cell_type": "code",
   "execution_count": 2,
   "id": "21aa93b7-45b9-4712-a930-380bd4b6f502",
   "metadata": {},
   "outputs": [
    {
     "name": "stdout",
     "output_type": "stream",
     "text": [
      "mindspore output:\n",
      " (Tensor(shape=[2, 3], dtype=Int64, value=\n",
      "[[1, 2, 3],\n",
      " [3, 4, 6]]), Tensor(shape=[2, 3], dtype=Int32, value=\n",
      "[[1, 0, 2],\n",
      " [1, 0, 2]]))\n",
      "\n",
      "\n",
      "torch output:\n",
      " torch.return_types.sort(\n",
      "values=tensor([[1, 2, 3],\n",
      "        [3, 4, 6]]),\n",
      "indices=tensor([[1, 0, 2],\n",
      "        [1, 0, 2]]))\n",
      "\n",
      "\n",
      "jax output:\n",
      " [[1 2 3]\n",
      " [3 4 6]]\n"
     ]
    }
   ],
   "source": [
    "input = np.array([[2, 1, 3],\n",
    "                  [4, 3, 6]])\n",
    "\n",
    "y1 = ms.ops.sort(ms.tensor(input), 1)\n",
    "y2 = torch.sort(torch.tensor(input),1)\n",
    "y3 = jnp.sort(input,1)\n",
    "print ('mindspore output:\\n',y1)\n",
    "print('\\n')\n",
    "print ('torch output:\\n',y2)\n",
    "print('\\n')\n",
    "print ('jax output:\\n',y3)"
   ]
  },
  {
   "cell_type": "markdown",
   "id": "e50ae016-39b0-4ea4-8323-125d25e992a3",
   "metadata": {},
   "source": [
    "* ms返回值的value在最后，可读性差，建议关键信息提前。\n",
    "* jax仅返回排序后的array，不返回indice\n",
    "* ms与jax不返回类型。"
   ]
  },
  {
   "cell_type": "markdown",
   "id": "bc9f57fe-a2e6-4918-9e5f-ede7543cea00",
   "metadata": {},
   "source": [
    "3、报错信息比较"
   ]
  },
  {
   "cell_type": "code",
   "execution_count": 3,
   "id": "9fcbe1fa-7af2-4f85-9c27-c318cb2e7017",
   "metadata": {},
   "outputs": [
    {
     "ename": "TypeError",
     "evalue": "For Primitive[Sort], the type of input argument[inputx] must be Tensor but got External.\n\n----------------------------------------------------\n- C++ Call Stack: (For framework developers)\n----------------------------------------------------\nmindspore/core/utils/check_convert_utils.cc:880 CheckTensorTypeValid\n",
     "output_type": "error",
     "traceback": [
      "\u001b[0;31m---------------------------------------------------------------------------\u001b[0m",
      "\u001b[0;31mTypeError\u001b[0m                                 Traceback (most recent call last)",
      "Cell \u001b[0;32mIn[3], line 1\u001b[0m\n\u001b[0;32m----> 1\u001b[0m y1 \u001b[38;5;241m=\u001b[39m \u001b[43mms\u001b[49m\u001b[38;5;241;43m.\u001b[39;49m\u001b[43mops\u001b[49m\u001b[38;5;241;43m.\u001b[39;49m\u001b[43msort\u001b[49m\u001b[43m(\u001b[49m\u001b[38;5;28;43minput\u001b[39;49m\u001b[43m)\u001b[49m\n",
      "File \u001b[0;32m/opt/anaconda3/envs/mindspore/lib/python3.9/site-packages/mindspore/ops/function/array_func.py:2900\u001b[0m, in \u001b[0;36msort\u001b[0;34m(input_x, axis, descending)\u001b[0m\n\u001b[1;32m   2853\u001b[0m \u001b[38;5;250m\u001b[39m\u001b[38;5;124mr\u001b[39m\u001b[38;5;124;03m\"\"\"\u001b[39;00m\n\u001b[1;32m   2854\u001b[0m \u001b[38;5;124;03mSorts the elements of the input tensor along the given dimension in the specified order.\u001b[39;00m\n\u001b[1;32m   2855\u001b[0m \n\u001b[0;32m   (...)\u001b[0m\n\u001b[1;32m   2897\u001b[0m \u001b[38;5;124;03m    [0, 1, 2]]))\u001b[39;00m\n\u001b[1;32m   2898\u001b[0m \u001b[38;5;124;03m\"\"\"\u001b[39;00m\n\u001b[1;32m   2899\u001b[0m _sort \u001b[38;5;241m=\u001b[39m _get_cache_prim(P\u001b[38;5;241m.\u001b[39mSort)(axis, descending)\n\u001b[0;32m-> 2900\u001b[0m \u001b[38;5;28;01mreturn\u001b[39;00m \u001b[43m_sort\u001b[49m\u001b[43m(\u001b[49m\u001b[43minput_x\u001b[49m\u001b[43m)\u001b[49m\n",
      "File \u001b[0;32m/opt/anaconda3/envs/mindspore/lib/python3.9/site-packages/mindspore/ops/primitive.py:405\u001b[0m, in \u001b[0;36mPrimitive.__call__\u001b[0;34m(self, *args)\u001b[0m\n\u001b[1;32m    403\u001b[0m \u001b[38;5;28;01mif\u001b[39;00m should_elim:\n\u001b[1;32m    404\u001b[0m     \u001b[38;5;28;01mreturn\u001b[39;00m output\n\u001b[0;32m--> 405\u001b[0m \u001b[38;5;28;01mreturn\u001b[39;00m \u001b[43m_run_op\u001b[49m\u001b[43m(\u001b[49m\u001b[38;5;28;43mself\u001b[39;49m\u001b[43m,\u001b[49m\u001b[43m \u001b[49m\u001b[38;5;28;43mself\u001b[39;49m\u001b[38;5;241;43m.\u001b[39;49m\u001b[43mname\u001b[49m\u001b[43m,\u001b[49m\u001b[43m \u001b[49m\u001b[43margs\u001b[49m\u001b[43m)\u001b[49m\n",
      "File \u001b[0;32m/opt/anaconda3/envs/mindspore/lib/python3.9/site-packages/mindspore/ops/primitive.py:1022\u001b[0m, in \u001b[0;36m_run_op\u001b[0;34m(obj, op_name, args)\u001b[0m\n\u001b[1;32m   1020\u001b[0m \u001b[38;5;250m\u001b[39m\u001b[38;5;124;03m\"\"\"Single op execution function supported by ge in PyNative mode.\"\"\"\u001b[39;00m\n\u001b[1;32m   1021\u001b[0m \u001b[38;5;28;01mif\u001b[39;00m \u001b[38;5;129;01mnot\u001b[39;00m _RunOpHook\u001b[38;5;241m.\u001b[39mcurrent:\n\u001b[0;32m-> 1022\u001b[0m     stub \u001b[38;5;241m=\u001b[39m \u001b[43m_pynative_executor\u001b[49m\u001b[38;5;241;43m.\u001b[39;49m\u001b[43mrun_op_async\u001b[49m\u001b[43m(\u001b[49m\u001b[43mobj\u001b[49m\u001b[43m,\u001b[49m\u001b[43m \u001b[49m\u001b[43mop_name\u001b[49m\u001b[43m,\u001b[49m\u001b[43m \u001b[49m\u001b[43margs\u001b[49m\u001b[43m)\u001b[49m\n\u001b[1;32m   1023\u001b[0m     \u001b[38;5;28;01mreturn\u001b[39;00m _convert_stub(stub)\n\u001b[1;32m   1024\u001b[0m \u001b[38;5;28;01mreturn\u001b[39;00m _RunOpHook\u001b[38;5;241m.\u001b[39mcurrent\u001b[38;5;241m.\u001b[39mhook(obj, args)\n",
      "File \u001b[0;32m/opt/anaconda3/envs/mindspore/lib/python3.9/site-packages/mindspore/common/api.py:1423\u001b[0m, in \u001b[0;36m_PyNativeExecutor.run_op_async\u001b[0;34m(self, *args)\u001b[0m\n\u001b[1;32m   1413\u001b[0m \u001b[38;5;28;01mdef\u001b[39;00m \u001b[38;5;21mrun_op_async\u001b[39m(\u001b[38;5;28mself\u001b[39m, \u001b[38;5;241m*\u001b[39margs):\n\u001b[1;32m   1414\u001b[0m \u001b[38;5;250m    \u001b[39m\u001b[38;5;124;03m\"\"\"\u001b[39;00m\n\u001b[1;32m   1415\u001b[0m \u001b[38;5;124;03m    Run single op async.\u001b[39;00m\n\u001b[1;32m   1416\u001b[0m \n\u001b[0;32m   (...)\u001b[0m\n\u001b[1;32m   1421\u001b[0m \u001b[38;5;124;03m        StubNode, result of run op.\u001b[39;00m\n\u001b[1;32m   1422\u001b[0m \u001b[38;5;124;03m    \"\"\"\u001b[39;00m\n\u001b[0;32m-> 1423\u001b[0m     \u001b[38;5;28;01mreturn\u001b[39;00m \u001b[38;5;28;43mself\u001b[39;49m\u001b[38;5;241;43m.\u001b[39;49m\u001b[43m_executor\u001b[49m\u001b[38;5;241;43m.\u001b[39;49m\u001b[43mrun_op_async\u001b[49m\u001b[43m(\u001b[49m\u001b[38;5;241;43m*\u001b[39;49m\u001b[43margs\u001b[49m\u001b[43m)\u001b[49m\n",
      "\u001b[0;31mTypeError\u001b[0m: For Primitive[Sort], the type of input argument[inputx] must be Tensor but got External.\n\n----------------------------------------------------\n- C++ Call Stack: (For framework developers)\n----------------------------------------------------\nmindspore/core/utils/check_convert_utils.cc:880 CheckTensorTypeValid\n"
     ]
    }
   ],
   "source": [
    "y1 = ms.ops.sort(input)"
   ]
  },
  {
   "cell_type": "code",
   "execution_count": 4,
   "id": "1050b2d7-b6e4-4cce-90ed-9797c0dba5e9",
   "metadata": {},
   "outputs": [
    {
     "ename": "TypeError",
     "evalue": "sort(): argument 'input' (position 1) must be Tensor, not numpy.ndarray",
     "output_type": "error",
     "traceback": [
      "\u001b[0;31m---------------------------------------------------------------------------\u001b[0m",
      "\u001b[0;31mTypeError\u001b[0m                                 Traceback (most recent call last)",
      "Cell \u001b[0;32mIn[4], line 1\u001b[0m\n\u001b[0;32m----> 1\u001b[0m y2 \u001b[38;5;241m=\u001b[39m \u001b[43mtorch\u001b[49m\u001b[38;5;241;43m.\u001b[39;49m\u001b[43msort\u001b[49m\u001b[43m(\u001b[49m\u001b[38;5;28;43minput\u001b[39;49m\u001b[43m)\u001b[49m\n",
      "\u001b[0;31mTypeError\u001b[0m: sort(): argument 'input' (position 1) must be Tensor, not numpy.ndarray"
     ]
    }
   ],
   "source": [
    "y2 = torch.sort(input)"
   ]
  },
  {
   "cell_type": "code",
   "execution_count": 5,
   "id": "6697f596-9c94-4151-a577-08c8f80e6e7e",
   "metadata": {},
   "outputs": [
    {
     "ename": "TypeError",
     "evalue": "sort requires ndarray or scalar arguments, got <class 'list'> at position 0.",
     "output_type": "error",
     "traceback": [
      "\u001b[0;31m---------------------------------------------------------------------------\u001b[0m",
      "\u001b[0;31mTypeError\u001b[0m                                 Traceback (most recent call last)",
      "Cell \u001b[0;32mIn[5], line 2\u001b[0m\n\u001b[1;32m      1\u001b[0m \u001b[38;5;28minput\u001b[39m \u001b[38;5;241m=\u001b[39m [\u001b[38;5;241m2\u001b[39m, \u001b[38;5;241m4\u001b[39m, \u001b[38;5;241m3\u001b[39m, \u001b[38;5;241m1\u001b[39m]\n\u001b[0;32m----> 2\u001b[0m y3 \u001b[38;5;241m=\u001b[39m \u001b[43mjnp\u001b[49m\u001b[38;5;241;43m.\u001b[39;49m\u001b[43msort\u001b[49m\u001b[43m(\u001b[49m\u001b[38;5;28;43minput\u001b[39;49m\u001b[43m)\u001b[49m\n",
      "    \u001b[0;31m[... skipping hidden 11 frame]\u001b[0m\n",
      "File \u001b[0;32m/opt/anaconda3/envs/mindspore/lib/python3.9/site-packages/jax/_src/numpy/lax_numpy.py:5745\u001b[0m, in \u001b[0;36msort\u001b[0;34m(a, axis, kind, order, stable, descending)\u001b[0m\n\u001b[1;32m   5727\u001b[0m \u001b[38;5;129m@util\u001b[39m\u001b[38;5;241m.\u001b[39mimplements(np\u001b[38;5;241m.\u001b[39msort, extra_params\u001b[38;5;241m=\u001b[39m\u001b[38;5;124m\"\"\"\u001b[39m\n\u001b[1;32m   5728\u001b[0m \u001b[38;5;124mstable : bool, default=True\u001b[39m\n\u001b[1;32m   5729\u001b[0m \u001b[38;5;124m    Specify whether to use a stable sort.\u001b[39m\n\u001b[0;32m   (...)\u001b[0m\n\u001b[1;32m   5743\u001b[0m     descending: \u001b[38;5;28mbool\u001b[39m \u001b[38;5;241m=\u001b[39m \u001b[38;5;28;01mFalse\u001b[39;00m,\n\u001b[1;32m   5744\u001b[0m ) \u001b[38;5;241m-\u001b[39m\u001b[38;5;241m>\u001b[39m Array:\n\u001b[0;32m-> 5745\u001b[0m   \u001b[43mutil\u001b[49m\u001b[38;5;241;43m.\u001b[39;49m\u001b[43mcheck_arraylike\u001b[49m\u001b[43m(\u001b[49m\u001b[38;5;124;43m\"\u001b[39;49m\u001b[38;5;124;43msort\u001b[39;49m\u001b[38;5;124;43m\"\u001b[39;49m\u001b[43m,\u001b[49m\u001b[43m \u001b[49m\u001b[43ma\u001b[49m\u001b[43m)\u001b[49m\n\u001b[1;32m   5746\u001b[0m   \u001b[38;5;28;01mif\u001b[39;00m kind \u001b[38;5;129;01mis\u001b[39;00m \u001b[38;5;129;01mnot\u001b[39;00m \u001b[38;5;28;01mNone\u001b[39;00m:\n\u001b[1;32m   5747\u001b[0m     \u001b[38;5;28;01mraise\u001b[39;00m \u001b[38;5;167;01mTypeError\u001b[39;00m(\u001b[38;5;124m\"\u001b[39m\u001b[38;5;124m'\u001b[39m\u001b[38;5;124mkind\u001b[39m\u001b[38;5;124m'\u001b[39m\u001b[38;5;124m argument to sort is not supported. Use\u001b[39m\u001b[38;5;124m\"\u001b[39m\n\u001b[1;32m   5748\u001b[0m                     \u001b[38;5;124m\"\u001b[39m\u001b[38;5;124m stable=True or stable=False to specify sort stability.\u001b[39m\u001b[38;5;124m\"\u001b[39m)\n",
      "File \u001b[0;32m/opt/anaconda3/envs/mindspore/lib/python3.9/site-packages/jax/_src/numpy/util.py:335\u001b[0m, in \u001b[0;36mcheck_arraylike\u001b[0;34m(fun_name, emit_warning, stacklevel, *args)\u001b[0m\n\u001b[1;32m    332\u001b[0m   warnings\u001b[38;5;241m.\u001b[39mwarn(msg \u001b[38;5;241m+\u001b[39m \u001b[38;5;124m\"\u001b[39m\u001b[38;5;124m In a future JAX release this will be an error.\u001b[39m\u001b[38;5;124m\"\u001b[39m,\n\u001b[1;32m    333\u001b[0m                 category\u001b[38;5;241m=\u001b[39m\u001b[38;5;167;01mDeprecationWarning\u001b[39;00m, stacklevel\u001b[38;5;241m=\u001b[39mstacklevel)\n\u001b[1;32m    334\u001b[0m \u001b[38;5;28;01melse\u001b[39;00m:\n\u001b[0;32m--> 335\u001b[0m   \u001b[38;5;28;01mraise\u001b[39;00m \u001b[38;5;167;01mTypeError\u001b[39;00m(msg\u001b[38;5;241m.\u001b[39mformat(fun_name, \u001b[38;5;28mtype\u001b[39m(arg), pos))\n",
      "\u001b[0;31mTypeError\u001b[0m: sort requires ndarray or scalar arguments, got <class 'list'> at position 0."
     ]
    }
   ],
   "source": [
    "input = [2, 4, 3, 1]\n",
    "y3 = jnp.sort(input)"
   ]
  },
  {
   "cell_type": "markdown",
   "id": "59517714-1ef1-43d2-ac0e-7b84d4ab1c65",
   "metadata": {},
   "source": [
    "当输入类型不正确时，报错信息torch简洁明确。建议ms优化。"
   ]
  }
 ],
 "metadata": {
  "kernelspec": {
   "display_name": "Python 3 (ipykernel)",
   "language": "python",
   "name": "python3"
  },
  "language_info": {
   "codemirror_mode": {
    "name": "ipython",
    "version": 3
   },
   "file_extension": ".py",
   "mimetype": "text/x-python",
   "name": "python",
   "nbconvert_exporter": "python",
   "pygments_lexer": "ipython3",
   "version": "3.9.18"
  }
 },
 "nbformat": 4,
 "nbformat_minor": 5
}
