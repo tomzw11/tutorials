{
 "cells": [
  {
   "cell_type": "markdown",
   "id": "620b1bb9-d188-4916-8a88-392b301e78dd",
   "metadata": {},
   "source": [
    "## mindspore.ops.full(size, fill_value, *, dtype=None) -〉 Tensor\n",
    "创建一个指定shape的Tensor，并用指定值填充。\n",
    "\n",
    "- 输入：\n",
    "    * size为tuple[int]或list[int]。\n",
    "    * fill_value为number.Number，不支持复数。\n",
    "- 返回：mindspore.dtype，只支持 bool_ 和 number。"
   ]
  },
  {
   "cell_type": "markdown",
   "id": "a73e925e-7e1d-4e81-810f-fd251bfcd7ac",
   "metadata": {},
   "source": [
    "1、参数比较：\n",
    "| mindspore   | torch       | jax         |\n",
    "| :----:      | :----:      | :----:      |\n",
    "| size        | size        | shape       |\n",
    "| fill_value  | fill_value  | fill_value  |\n",
    "| dtype       | out         | dtype       |\n",
    "|             | dtype       | device      |\n",
    "|             | layout      |             |\n",
    "|             | device      |             |\n",
    "|             | requires_grad |           |\n",
    "* torch和jax都提供了device参数，用于设置返回值提交到哪个设备上。\n",
    "* torch额外提供了out出参，layout用于设置内存存储结构，以及requires_grad设置自动求导是否记录操作。"
   ]
  },
  {
   "cell_type": "markdown",
   "id": "77ff63bc-9e39-4849-85b1-a34b7e49aee4",
   "metadata": {},
   "source": [
    "2、返回值比较:"
   ]
  },
  {
   "cell_type": "markdown",
   "id": "35a74df9-66a6-4039-8f5c-3aae7e34a0dc",
   "metadata": {},
   "source": [
    "fill_value数据类型为bool型时："
   ]
  },
  {
   "cell_type": "code",
   "execution_count": 6,
   "id": "518c829d-80a5-4d98-b90c-09635ae35665",
   "metadata": {},
   "outputs": [
    {
     "name": "stdout",
     "output_type": "stream",
     "text": [
      "mindspore output:\n",
      " [[False False False]\n",
      " [False False False]]\n",
      "\n",
      "\n",
      "torch     output:\n",
      " tensor([[False, False, False],\n",
      "        [False, False, False]])\n",
      "\n",
      "\n",
      "jax       output:\n",
      " [[False False False]\n",
      " [False False False]]\n"
     ]
    }
   ],
   "source": [
    "import mindspore as ms\n",
    "import torch\n",
    "import jax.numpy as jnp\n",
    "\n",
    "y1 = ms.ops.full((2, 3), 0, dtype=ms.bool_)\n",
    "y2 = torch.full((2, 3), 0, dtype=torch.bool)\n",
    "y3 = jnp.full((2, 3), 0, dtype=bool)\n",
    "print ('mindspore output:\\n',y1)\n",
    "print('\\n')\n",
    "print ('torch     output:\\n',y2)\n",
    "print('\\n')\n",
    "print ('jax       output:\\n',y3)"
   ]
  },
  {
   "cell_type": "markdown",
   "id": "c9edc221-edfc-458c-864a-7dba2d8d93cc",
   "metadata": {},
   "source": [
    "fill_value类型为number时："
   ]
  },
  {
   "cell_type": "code",
   "execution_count": 12,
   "id": "fb811e3b-8ef7-4a9f-af57-a860af11ff17",
   "metadata": {},
   "outputs": [
    {
     "name": "stdout",
     "output_type": "stream",
     "text": [
      "mindspore output:\n",
      " [[3 3 3]\n",
      " [3 3 3]]\n",
      "\n",
      "\n",
      "torch     output:\n",
      " tensor([[3.1416, 3.1416, 3.1416],\n",
      "        [3.1416, 3.1416, 3.1416]])\n",
      "\n",
      "\n",
      "jax       output:\n",
      " [[3.141592 3.141592 3.141592]\n",
      " [3.141592 3.141592 3.141592]]\n"
     ]
    }
   ],
   "source": [
    "y1 = ms.ops.full((2, 3), 3.141592)\n",
    "y2 = torch.full((2, 3), 3.141592)\n",
    "y3 = jnp.full((2, 3), 3.141592)\n",
    "print ('mindspore output:\\n',y1)\n",
    "print('\\n')\n",
    "print ('torch     output:\\n',y2)\n",
    "print('\\n')\n",
    "print ('jax       output:\\n',y3)"
   ]
  },
  {
   "cell_type": "markdown",
   "id": "d068b3ce-1451-48ff-917b-c40263f0ebee",
   "metadata": {},
   "source": [
    "ms当fill_value为浮点数时，返回值的数据类型为int，与其他两种框架不一致。  \n",
    "ms与jax不返回类型。"
   ]
  },
  {
   "cell_type": "markdown",
   "id": "d4354aaa-e845-437f-aa55-263c8463650f",
   "metadata": {},
   "source": [
    "fill_vaule为tensor或array时："
   ]
  },
  {
   "cell_type": "code",
   "execution_count": 17,
   "id": "584bfc1d-e97a-4ab0-a7cc-6d2751915873",
   "metadata": {},
   "outputs": [
    {
     "ename": "ValueError",
     "evalue": "For primitive[FillV2], the size of the input [fill_value] must be equal to 1, but got 3.\n\n----------------------------------------------------\n- C++ Call Stack: (For framework developers)\n----------------------------------------------------\nmindspore/core/utils/check_convert_utils.cc:625 CheckInteger\n",
     "output_type": "error",
     "traceback": [
      "\u001b[0;31m---------------------------------------------------------------------------\u001b[0m",
      "\u001b[0;31mValueError\u001b[0m                                Traceback (most recent call last)",
      "Cell \u001b[0;32mIn[17], line 1\u001b[0m\n\u001b[0;32m----> 1\u001b[0m y1 \u001b[38;5;241m=\u001b[39m \u001b[43mms\u001b[49m\u001b[38;5;241;43m.\u001b[39;49m\u001b[43mops\u001b[49m\u001b[38;5;241;43m.\u001b[39;49m\u001b[43mfull\u001b[49m\u001b[43m(\u001b[49m\u001b[43m(\u001b[49m\u001b[38;5;241;43m2\u001b[39;49m\u001b[43m,\u001b[49m\u001b[43m \u001b[49m\u001b[38;5;241;43m3\u001b[39;49m\u001b[43m)\u001b[49m\u001b[43m,\u001b[49m\u001b[43m \u001b[49m\u001b[43mms\u001b[49m\u001b[38;5;241;43m.\u001b[39;49m\u001b[43mops\u001b[49m\u001b[38;5;241;43m.\u001b[39;49m\u001b[43marange\u001b[49m\u001b[43m(\u001b[49m\u001b[38;5;241;43m3\u001b[39;49m\u001b[43m)\u001b[49m\u001b[43m)\u001b[49m\n",
      "File \u001b[0;32m/opt/anaconda3/envs/mindspore/lib/python3.9/site-packages/mindspore/ops/function/array_func.py:808\u001b[0m, in \u001b[0;36mfull\u001b[0;34m(size, fill_value, dtype)\u001b[0m\n\u001b[1;32m    806\u001b[0m \u001b[38;5;28;01mif\u001b[39;00m \u001b[38;5;28misinstance\u001b[39m(size, \u001b[38;5;28mlist\u001b[39m):\n\u001b[1;32m    807\u001b[0m     size \u001b[38;5;241m=\u001b[39m \u001b[38;5;28mtuple\u001b[39m(size)\n\u001b[0;32m--> 808\u001b[0m \u001b[38;5;28;01mreturn\u001b[39;00m \u001b[43mops\u001b[49m\u001b[38;5;241;43m.\u001b[39;49m\u001b[43mfill\u001b[49m\u001b[43m(\u001b[49m\u001b[43mdtype\u001b[49m\u001b[43m,\u001b[49m\u001b[43m \u001b[49m\u001b[43msize\u001b[49m\u001b[43m,\u001b[49m\u001b[43m \u001b[49m\u001b[43mfill_value\u001b[49m\u001b[43m)\u001b[49m\n",
      "File \u001b[0;32m/opt/anaconda3/envs/mindspore/lib/python3.9/site-packages/mindspore/ops/function/array_func.py:761\u001b[0m, in \u001b[0;36mfill\u001b[0;34m(type, shape, value)\u001b[0m\n\u001b[1;32m    728\u001b[0m \u001b[38;5;250m\u001b[39m\u001b[38;5;124;03m\"\"\"\u001b[39;00m\n\u001b[1;32m    729\u001b[0m \u001b[38;5;124;03mCreate a Tensor of the specified shape and fill it with the specified value.\u001b[39;00m\n\u001b[1;32m    730\u001b[0m \n\u001b[0;32m   (...)\u001b[0m\n\u001b[1;32m    758\u001b[0m \u001b[38;5;124;03m     [0. 0. 0.]]\u001b[39;00m\n\u001b[1;32m    759\u001b[0m \u001b[38;5;124;03m\"\"\"\u001b[39;00m\n\u001b[1;32m    760\u001b[0m value \u001b[38;5;241m=\u001b[39m cast_(value, \u001b[38;5;28mtype\u001b[39m)\n\u001b[0;32m--> 761\u001b[0m \u001b[38;5;28;01mreturn\u001b[39;00m \u001b[43mfillv2_\u001b[49m\u001b[43m(\u001b[49m\u001b[43mshape\u001b[49m\u001b[43m,\u001b[49m\u001b[43m \u001b[49m\u001b[43mvalue\u001b[49m\u001b[43m)\u001b[49m\n",
      "File \u001b[0;32m/opt/anaconda3/envs/mindspore/lib/python3.9/site-packages/mindspore/ops/primitive.py:405\u001b[0m, in \u001b[0;36mPrimitive.__call__\u001b[0;34m(self, *args)\u001b[0m\n\u001b[1;32m    403\u001b[0m \u001b[38;5;28;01mif\u001b[39;00m should_elim:\n\u001b[1;32m    404\u001b[0m     \u001b[38;5;28;01mreturn\u001b[39;00m output\n\u001b[0;32m--> 405\u001b[0m \u001b[38;5;28;01mreturn\u001b[39;00m \u001b[43m_run_op\u001b[49m\u001b[43m(\u001b[49m\u001b[38;5;28;43mself\u001b[39;49m\u001b[43m,\u001b[49m\u001b[43m \u001b[49m\u001b[38;5;28;43mself\u001b[39;49m\u001b[38;5;241;43m.\u001b[39;49m\u001b[43mname\u001b[49m\u001b[43m,\u001b[49m\u001b[43m \u001b[49m\u001b[43margs\u001b[49m\u001b[43m)\u001b[49m\n",
      "File \u001b[0;32m/opt/anaconda3/envs/mindspore/lib/python3.9/site-packages/mindspore/ops/primitive.py:1022\u001b[0m, in \u001b[0;36m_run_op\u001b[0;34m(obj, op_name, args)\u001b[0m\n\u001b[1;32m   1020\u001b[0m \u001b[38;5;250m\u001b[39m\u001b[38;5;124;03m\"\"\"Single op execution function supported by ge in PyNative mode.\"\"\"\u001b[39;00m\n\u001b[1;32m   1021\u001b[0m \u001b[38;5;28;01mif\u001b[39;00m \u001b[38;5;129;01mnot\u001b[39;00m _RunOpHook\u001b[38;5;241m.\u001b[39mcurrent:\n\u001b[0;32m-> 1022\u001b[0m     stub \u001b[38;5;241m=\u001b[39m \u001b[43m_pynative_executor\u001b[49m\u001b[38;5;241;43m.\u001b[39;49m\u001b[43mrun_op_async\u001b[49m\u001b[43m(\u001b[49m\u001b[43mobj\u001b[49m\u001b[43m,\u001b[49m\u001b[43m \u001b[49m\u001b[43mop_name\u001b[49m\u001b[43m,\u001b[49m\u001b[43m \u001b[49m\u001b[43margs\u001b[49m\u001b[43m)\u001b[49m\n\u001b[1;32m   1023\u001b[0m     \u001b[38;5;28;01mreturn\u001b[39;00m _convert_stub(stub)\n\u001b[1;32m   1024\u001b[0m \u001b[38;5;28;01mreturn\u001b[39;00m _RunOpHook\u001b[38;5;241m.\u001b[39mcurrent\u001b[38;5;241m.\u001b[39mhook(obj, args)\n",
      "File \u001b[0;32m/opt/anaconda3/envs/mindspore/lib/python3.9/site-packages/mindspore/common/api.py:1423\u001b[0m, in \u001b[0;36m_PyNativeExecutor.run_op_async\u001b[0;34m(self, *args)\u001b[0m\n\u001b[1;32m   1413\u001b[0m \u001b[38;5;28;01mdef\u001b[39;00m \u001b[38;5;21mrun_op_async\u001b[39m(\u001b[38;5;28mself\u001b[39m, \u001b[38;5;241m*\u001b[39margs):\n\u001b[1;32m   1414\u001b[0m \u001b[38;5;250m    \u001b[39m\u001b[38;5;124;03m\"\"\"\u001b[39;00m\n\u001b[1;32m   1415\u001b[0m \u001b[38;5;124;03m    Run single op async.\u001b[39;00m\n\u001b[1;32m   1416\u001b[0m \n\u001b[0;32m   (...)\u001b[0m\n\u001b[1;32m   1421\u001b[0m \u001b[38;5;124;03m        StubNode, result of run op.\u001b[39;00m\n\u001b[1;32m   1422\u001b[0m \u001b[38;5;124;03m    \"\"\"\u001b[39;00m\n\u001b[0;32m-> 1423\u001b[0m     \u001b[38;5;28;01mreturn\u001b[39;00m \u001b[38;5;28;43mself\u001b[39;49m\u001b[38;5;241;43m.\u001b[39;49m\u001b[43m_executor\u001b[49m\u001b[38;5;241;43m.\u001b[39;49m\u001b[43mrun_op_async\u001b[49m\u001b[43m(\u001b[49m\u001b[38;5;241;43m*\u001b[39;49m\u001b[43margs\u001b[49m\u001b[43m)\u001b[49m\n",
      "\u001b[0;31mValueError\u001b[0m: For primitive[FillV2], the size of the input [fill_value] must be equal to 1, but got 3.\n\n----------------------------------------------------\n- C++ Call Stack: (For framework developers)\n----------------------------------------------------\nmindspore/core/utils/check_convert_utils.cc:625 CheckInteger\n"
     ]
    }
   ],
   "source": [
    "y1 = ms.ops.full((2, 3), ms.ops.arange(3))"
   ]
  },
  {
   "cell_type": "code",
   "execution_count": 18,
   "id": "e7b70723-6012-4269-a8e8-f2078b0b6647",
   "metadata": {},
   "outputs": [
    {
     "ename": "TypeError",
     "evalue": "full(): argument 'fill_value' (position 2) must be Number, not Tensor",
     "output_type": "error",
     "traceback": [
      "\u001b[0;31m---------------------------------------------------------------------------\u001b[0m",
      "\u001b[0;31mTypeError\u001b[0m                                 Traceback (most recent call last)",
      "Cell \u001b[0;32mIn[18], line 1\u001b[0m\n\u001b[0;32m----> 1\u001b[0m y2 \u001b[38;5;241m=\u001b[39m \u001b[43mtorch\u001b[49m\u001b[38;5;241;43m.\u001b[39;49m\u001b[43mfull\u001b[49m\u001b[43m(\u001b[49m\u001b[43m(\u001b[49m\u001b[38;5;241;43m2\u001b[39;49m\u001b[43m,\u001b[49m\u001b[43m \u001b[49m\u001b[38;5;241;43m3\u001b[39;49m\u001b[43m)\u001b[49m\u001b[43m,\u001b[49m\u001b[43m \u001b[49m\u001b[43mtorch\u001b[49m\u001b[38;5;241;43m.\u001b[39;49m\u001b[43marange\u001b[49m\u001b[43m(\u001b[49m\u001b[38;5;241;43m3\u001b[39;49m\u001b[43m)\u001b[49m\u001b[43m)\u001b[49m\n",
      "\u001b[0;31mTypeError\u001b[0m: full(): argument 'fill_value' (position 2) must be Number, not Tensor"
     ]
    }
   ],
   "source": [
    "y2 = torch.full((2, 3), torch.arange(3))"
   ]
  },
  {
   "cell_type": "code",
   "execution_count": 19,
   "id": "eaf22769-559b-43c9-986b-550a996ccc74",
   "metadata": {},
   "outputs": [
    {
     "name": "stdout",
     "output_type": "stream",
     "text": [
      "jax       output:\n",
      " [[0 1 2]\n",
      " [0 1 2]]\n"
     ]
    }
   ],
   "source": [
    "y3 = jnp.full((2, 3), jnp.arange(3))\n",
    "print ('jax       output:\\n',y3)"
   ]
  },
  {
   "cell_type": "markdown",
   "id": "0d986477-b4c5-47dd-9640-8b5257443f7f",
   "metadata": {},
   "source": [
    "ms与torch都不支持fill_vaule为tensor，仅jax支持填充array。"
   ]
  },
  {
   "cell_type": "markdown",
   "id": "59517714-1ef1-43d2-ac0e-7b84d4ab1c65",
   "metadata": {},
   "source": [
    "当输入类型不正确时，报错信息torch简洁明确。建议ms优化。"
   ]
  }
 ],
 "metadata": {
  "kernelspec": {
   "display_name": "Python 3 (ipykernel)",
   "language": "python",
   "name": "python3"
  },
  "language_info": {
   "codemirror_mode": {
    "name": "ipython",
    "version": 3
   },
   "file_extension": ".py",
   "mimetype": "text/x-python",
   "name": "python",
   "nbconvert_exporter": "python",
   "pygments_lexer": "ipython3",
   "version": "3.9.18"
  }
 },
 "nbformat": 4,
 "nbformat_minor": 5
}
