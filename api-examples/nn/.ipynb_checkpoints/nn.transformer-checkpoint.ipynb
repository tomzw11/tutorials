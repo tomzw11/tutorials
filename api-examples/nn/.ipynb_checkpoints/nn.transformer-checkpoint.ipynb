{
 "cells": [
  {
   "cell_type": "code",
   "execution_count": 8,
   "metadata": {},
   "outputs": [],
   "source": [
    "import numpy as np\n",
    "import torch\n",
    "from torch import Tensor\n",
    "from torch import nn\n",
    "\n",
    "import time"
   ]
  },
  {
   "cell_type": "code",
   "execution_count": 9,
   "metadata": {},
   "outputs": [
    {
     "name": "stderr",
     "output_type": "stream",
     "text": [
      "C:\\Users\\wangzeyangyi\\anaconda3\\envs\\tutorial\\Lib\\site-packages\\torch\\nn\\modules\\transformer.py:379: UserWarning: enable_nested_tensor is True, but self.use_nested_tensor is False because encoder_layer.self_attn.batch_first was not True(use batch_first for better inference performance)\n",
      "  warnings.warn(\n"
     ]
    },
    {
     "name": "stdout",
     "output_type": "stream",
     "text": [
      "torch.Size([20, 32, 512])\n",
      "2.4219019412994385\n"
     ]
    }
   ],
   "source": [
    "start = time.time()\n",
    "transformer_model = nn.Transformer(nhead=16, num_encoder_layers=12)\n",
    "src = np.random.rand(10, 32, 512)\n",
    "tgt = np.random.rand(20, 32, 512)\n",
    "out = transformer_model(Tensor(src), Tensor(tgt))\n",
    "print(out.size())\n",
    "end = time.time()\n",
    "print(end-start)"
   ]
  },
  {
   "cell_type": "code",
   "execution_count": 10,
   "metadata": {},
   "outputs": [
    {
     "name": "stdout",
     "output_type": "stream",
     "text": [
      "(20, 32, 512)\n",
      "13.059895038604736\n"
     ]
    }
   ],
   "source": [
    "import mindspore as ms\n",
    "from mindspore import nn\n",
    "from mindspore import Tensor\n",
    "\n",
    "start = time.time()\n",
    "transformer_model = nn.Transformer(nhead=16, num_encoder_layers=12)\n",
    "out = transformer_model(Tensor(src, ms.float32), Tensor(tgt, ms.float32))\n",
    "print(out.shape)\n",
    "end = time.time()\n",
    "print(end-start)"
   ]
  },
  {
   "cell_type": "markdown",
   "metadata": {},
   "source": [
    "**MindSpore transformer用法与输出与PyTorch一致**\n",
    "- MindSpore transformer在CPU上的性能待优化（~6x PyTorch）\n",
    "- jax没有官方transformer API"
   ]
  }
 ],
 "metadata": {
  "kernelspec": {
   "display_name": "Python 3 (ipykernel)",
   "language": "python",
   "name": "python3"
  },
  "language_info": {
   "codemirror_mode": {
    "name": "ipython",
    "version": 3
   },
   "file_extension": ".py",
   "mimetype": "text/x-python",
   "name": "python",
   "nbconvert_exporter": "python",
   "pygments_lexer": "ipython3",
   "version": "3.11.11"
  }
 },
 "nbformat": 4,
 "nbformat_minor": 4
}
