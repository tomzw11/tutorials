{
 "cells": [
  {
   "cell_type": "code",
   "execution_count": 12,
   "metadata": {},
   "outputs": [],
   "source": [
    "import numpy as np\n",
    "import torch\n",
    "from torch import Tensor\n",
    "from torch import nn\n",
    "import time"
   ]
  },
  {
   "cell_type": "code",
   "execution_count": 13,
   "metadata": {},
   "outputs": [
    {
     "name": "stdout",
     "output_type": "stream",
     "text": [
      "tensor([[[ 1.1268, -0.9513,  0.6823],\n",
      "         [-0.3245, -0.8497, -0.7579],\n",
      "         [-0.6075,  2.7415, -2.0689],\n",
      "         [-1.4612, -1.0289, -0.4242]],\n",
      "\n",
      "        [[-0.6075,  2.7415, -2.0689],\n",
      "         [ 2.1071,  0.1938,  0.0255],\n",
      "         [-0.3245, -0.8497, -0.7579],\n",
      "         [-0.4831, -1.7133,  0.5985]]], grad_fn=<EmbeddingBackward0>)\n",
      "tensor([[[ 0.0000,  0.0000,  0.0000],\n",
      "         [-1.0849,  1.1815,  1.0977],\n",
      "         [ 0.9290,  1.8014, -0.3725],\n",
      "         [ 0.0787,  1.9454,  1.1112]],\n",
      "\n",
      "        [[ 1.7580, -0.3959,  0.9574],\n",
      "         [ 1.7580, -0.3959,  0.9574],\n",
      "         [-1.0849,  1.1815,  1.0977],\n",
      "         [ 0.3496,  1.7060, -0.4346]]], grad_fn=<EmbeddingBackward0>)\n",
      "0.004005908966064453\n"
     ]
    }
   ],
   "source": [
    "start = time.time()\n",
    "# an Embedding module containing 10 tensors of size 3\n",
    "embedding = nn.Embedding(10, 3)\n",
    "# a batch of 2 samples of 4 indices each\n",
    "input = torch.LongTensor([[1, 2, 4, 5], [4, 3, 2, 9]])\n",
    "print(embedding(input))\n",
    "\n",
    "# example with padding_idx\n",
    "embedding = nn.Embedding(10, 3, padding_idx=0)\n",
    "input = torch.LongTensor([[0, 2, 4, 5], [3, 3, 2, 9]])\n",
    "print(embedding(input))\n",
    "end = time.time()\n",
    "print(end-start)\n",
    "\n",
    "# # example of changing `pad` vector\n",
    "# padding_idx = 0\n",
    "# embedding = nn.Embedding(3, 3, padding_idx=padding_idx)\n",
    "# print(embedding.weight)\n",
    "# with torch.no_grad():\n",
    "#     embedding.weight[padding_idx] = torch.ones(3)\n",
    "# print(embedding.weight)"
   ]
  },
  {
   "cell_type": "code",
   "execution_count": 15,
   "metadata": {},
   "outputs": [
    {
     "name": "stdout",
     "output_type": "stream",
     "text": [
      "[[[-0.0065871   0.01535338  0.01434076]\n",
      "  [ 0.00331824  0.00791553 -0.02024699]\n",
      "  [ 0.01239492  0.00385856  0.00478753]\n",
      "  [-0.01227701  0.00011452  0.0142579 ]]\n",
      "\n",
      " [[ 0.01239492  0.00385856  0.00478753]\n",
      "  [-0.00323425  0.00501913 -0.00874054]\n",
      "  [ 0.00331824  0.00791553 -0.02024699]\n",
      "  [ 0.01642694 -0.0065531   0.00681009]]]\n",
      "[[[ 0.          0.          0.        ]\n",
      "  [ 0.00261477  0.01124485  0.00828796]\n",
      "  [-0.00046545  0.00450285  0.00737254]\n",
      "  [-0.01147073  0.00254146  0.00321731]]\n",
      "\n",
      " [[-0.00656487 -0.00497597 -0.00669393]\n",
      "  [-0.00656487 -0.00497597 -0.00669393]\n",
      "  [ 0.00261477  0.01124485  0.00828796]\n",
      "  [ 0.00989333  0.02307425  0.01142865]]]\n",
      "0.00896143913269043\n"
     ]
    }
   ],
   "source": [
    "import mindspore as ms\n",
    "from mindspore import nn\n",
    "from mindspore import Tensor\n",
    "\n",
    "start = time.time()\n",
    "embedding = nn.Embedding(10, 3)\n",
    "# a batch of 2 samples of 4 indices each\n",
    "input = Tensor([[1, 2, 4, 5], [4, 3, 2, 9]])\n",
    "print(embedding(input))\n",
    "\n",
    "# example with padding_idx\n",
    "embedding = nn.Embedding(10, 3, padding_idx=0)\n",
    "input = Tensor([[0, 2, 4, 5], [3, 3, 2, 9]])\n",
    "print(embedding(input))\n",
    "end = time.time()\n",
    "print(end-start)"
   ]
  },
  {
   "cell_type": "markdown",
   "metadata": {},
   "source": [
    "**MindSpore Embedding用法与输出与PyTorch一致**\n",
    "- mint.nn.embedding待验证，CPU不支持"
   ]
  }
 ],
 "metadata": {
  "kernelspec": {
   "display_name": "Python 3 (ipykernel)",
   "language": "python",
   "name": "python3"
  },
  "language_info": {
   "codemirror_mode": {
    "name": "ipython",
    "version": 3
   },
   "file_extension": ".py",
   "mimetype": "text/x-python",
   "name": "python",
   "nbconvert_exporter": "python",
   "pygments_lexer": "ipython3",
   "version": "3.11.11"
  }
 },
 "nbformat": 4,
 "nbformat_minor": 4
}
