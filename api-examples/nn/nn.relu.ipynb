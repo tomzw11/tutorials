{
 "cells": [
  {
   "cell_type": "code",
   "execution_count": 1,
   "metadata": {},
   "outputs": [],
   "source": [
    "import numpy as np\n",
    "import torch\n",
    "from torch import Tensor\n",
    "from torch import nn"
   ]
  },
  {
   "cell_type": "code",
   "execution_count": 4,
   "metadata": {},
   "outputs": [
    {
     "name": "stdout",
     "output_type": "stream",
     "text": [
      "tensor([0.7546, 0.1698, 0.7326, 0.5446, 0.9181, 0.1017, 0.3542, 0.0074, 0.8615,\n",
      "        0.0965])\n"
     ]
    }
   ],
   "source": [
    "# ReLU\n",
    "input_np = np.random.rand(10)\n",
    "output = nn.ReLU()(Tensor(input_np))\n",
    "print(output)"
   ]
  },
  {
   "cell_type": "code",
   "execution_count": 6,
   "metadata": {},
   "outputs": [
    {
     "name": "stdout",
     "output_type": "stream",
     "text": [
      "[0.75460404 0.16979711 0.7325533  0.544558   0.9180574  0.1017127\n",
      " 0.35418442 0.00744265 0.86148655 0.09653632]\n"
     ]
    }
   ],
   "source": [
    "import jax\n",
    "output = jax.nn.relu(input_np)\n",
    "print(output)"
   ]
  },
  {
   "cell_type": "code",
   "execution_count": 5,
   "metadata": {},
   "outputs": [
    {
     "name": "stdout",
     "output_type": "stream",
     "text": [
      "[0.75460406 0.16979711 0.7325533  0.544558   0.91805736 0.1017127\n",
      " 0.35418441 0.00744265 0.86148653 0.09653632]\n"
     ]
    }
   ],
   "source": [
    "import mindspore as ms\n",
    "from mindspore import nn\n",
    "from mindspore import Tensor\n",
    "output = nn.ReLU()(Tensor(input_np))\n",
    "print(output)"
   ]
  },
  {
   "cell_type": "markdown",
   "metadata": {},
   "source": [
    "**MindSpore ReLU用法与输出与PyTorch一致**\n",
    "- MindSpore的输出打印为list格式，与jax一致；PyTorch打印了tensor类信息，元素之间有逗号分隔\n",
    "- jax可以直接输入numpy向量"
   ]
  }
 ],
 "metadata": {
  "kernelspec": {
   "display_name": "Python 3 (ipykernel)",
   "language": "python",
   "name": "python3"
  },
  "language_info": {
   "codemirror_mode": {
    "name": "ipython",
    "version": 3
   },
   "file_extension": ".py",
   "mimetype": "text/x-python",
   "name": "python",
   "nbconvert_exporter": "python",
   "pygments_lexer": "ipython3",
   "version": "3.11.11"
  }
 },
 "nbformat": 4,
 "nbformat_minor": 4
}
